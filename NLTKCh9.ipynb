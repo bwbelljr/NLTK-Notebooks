{
 "cells": [
  {
   "cell_type": "markdown",
   "metadata": {
    "collapsed": true
   },
   "source": [
    "# 9   Building Feature Based Grammars"
   ]
  },
  {
   "cell_type": "markdown",
   "metadata": {},
   "source": [
    "Natural languages have an extensive range of grammatical constructions which are hard to handle with the simple methods described in 8. In order to gain more flexibility, we change our treatment of grammatical categories like S, NP and V. In place of atomic labels, we decompose them into structures like dictionaries, where features can take on a range of values.\n",
    "\n",
    "The goal of this chapter is to answer the following questions:\n",
    "\n",
    "* How can we extend the framework of context free grammars with features so as to gain more fine-grained control over grammatical categories and productions?\n",
    "* What are the main formal properties of feature structures and how do we use them computationally?\n",
    "* What kinds of linguistic patterns and grammatical constructions can we now capture with feature based grammars?\n",
    "\n",
    "Along the way, we will cover more topics in English syntax, including phenomena such as agreement, subcategorization, and unbounded dependency constructions."
   ]
  },
  {
   "cell_type": "markdown",
   "metadata": {},
   "source": [
    "## 9.1   Grammatical Features"
   ]
  },
  {
   "cell_type": "markdown",
   "metadata": {},
   "source": [
    "In chap-data-intensive, we described how to build classifiers that rely on detecting features of text. Such features may be quite simple, such as extracting the last letter of a word, or more complex, such as a part-of-speech tag which has itself been predicted by the classifier. In this chapter, we will investigate the role of features in building rule-based grammars. In contrast to feature extractors, which record features that have been automatically detected, we are now going to declare the features of words and phrases. We start off with a very simple example, using dictionaries to store features and their values."
   ]
  },
  {
   "cell_type": "code",
   "execution_count": 2,
   "metadata": {
    "collapsed": true
   },
   "outputs": [],
   "source": [
    "kim = {'CAT': 'NP', 'ORTH': 'Kim', 'REF': 'k'}\n",
    "chase = {'CAT': 'V', 'ORTH': 'chased', 'REL': 'chase'}"
   ]
  },
  {
   "cell_type": "markdown",
   "metadata": {},
   "source": [
    "The objects kim and chase both have a couple of shared features, CAT (grammatical category) and ORTH (orthography, i.e., spelling). In addition, each has a more semantically-oriented feature: kim['REF'] is intended to give the referent of kim, while chase['REL'] gives the relation expressed by chase. In the context of rule-based grammars, such pairings of features and values are known as feature structures, and we will shortly see alternative notations for them.\n",
    "\n",
    "Feature structures contain various kinds of information about grammatical entities. The information need not be exhaustive, and we might want to add further properties. For example, in the case of a verb, it is often useful to know what \"semantic role\" is played by the arguments of the verb. In the case of chase, the subject plays the role of \"agent\", while the object has the role of \"patient\". Let's add this information, using 'sbj' and 'obj' as placeholders which will get filled once the verb combines with its grammatical arguments:"
   ]
  },
  {
   "cell_type": "code",
   "execution_count": 3,
   "metadata": {
    "collapsed": true
   },
   "outputs": [],
   "source": [
    "chase['AGT'] = 'sbj'\n",
    "chase['PAT'] = 'obj'"
   ]
  },
  {
   "cell_type": "markdown",
   "metadata": {},
   "source": [
    "If we now process a sentence Kim chased Lee, we want to \"bind\" the verb's agent role to the subject and the patient role to the object. We do this by linking to the REF feature of the relevant NP. In the following example, we make the simple-minded assumption that the NPs immediately to the left and right of the verb are the subject and object respectively. We also add a feature structure for Lee to complete the example."
   ]
  },
  {
   "cell_type": "code",
   "execution_count": 7,
   "metadata": {
    "collapsed": false
   },
   "outputs": [
    {
     "name": "stdout",
     "output_type": "stream",
     "text": [
      "ORTH  => chased\n",
      "REL   => chase\n",
      "AGT   => k\n",
      "PAT   => l\n"
     ]
    }
   ],
   "source": [
    "sent = \"Kim chased Lee\"\n",
    "tokens = sent.split()\n",
    "lee = {'CAT': 'NP', 'ORTH': 'Lee', 'REF': 'l'}\n",
    "\n",
    "def lex2fs(word): #if ORTH matches word, then return that feature structure\n",
    "    for fs in [kim, lee, chase]:\n",
    "        if fs['ORTH'] == word:\n",
    "            return fs\n",
    "\n",
    "# assign subj to first token, verb to second object, and obj to third object\n",
    "subj, verb, obj = lex2fs(tokens[0]), lex2fs(tokens[1]), lex2fs(tokens[2])\n",
    "\n",
    "verb['AGT'] = subj['REF']\n",
    "verb['PAT'] = obj['REF']\n",
    "for k in ['ORTH', 'REL', 'AGT', 'PAT']:\n",
    "    print \"%-5s => %s\" % (k, verb[k])"
   ]
  },
  {
   "cell_type": "markdown",
   "metadata": {},
   "source": [
    "The same approach could be adopted for a different verb, say surprise, though in this case, the subject would play the role of \"source\" (SRC) and the object, the role of \"experiencer\" (EXP):"
   ]
  },
  {
   "cell_type": "code",
   "execution_count": 8,
   "metadata": {
    "collapsed": true
   },
   "outputs": [],
   "source": [
    "surprise = {'CAT': 'V', 'ORTH': 'surprised', 'REL': 'surprise', \n",
    "            'SRC': 'sbj', 'EXP': 'obj'}"
   ]
  },
  {
   "cell_type": "markdown",
   "metadata": {},
   "source": [
    "Feature structures are pretty powerful, but the way in which we have manipulated them is extremely ad hoc. Our next task in this chapter is to show how the framework of context free grammar and parsing can be expanded to accommodate feature structures, so that we can build analyses like this in a more generic and principled way. We will start off by looking at the phenomenon of syntactic agreement; we will show how agreement constraints can be expressed elegantly using features, and illustrate their use in a simple grammar.\n",
    "\n",
    "Since feature structures are a general data structure for representing information of any kind, we will briefly look at them from a more formal point of view, and illustrate the support for feature structures offered by NLTK. In the final part of the chapter, we demonstrate that the additional expressiveness of features opens up a wide spectrum of possibilities for describing sophisticated aspects of linguistic structure."
   ]
  },
  {
   "cell_type": "markdown",
   "metadata": {},
   "source": [
    "### Syntactic Agreement\n",
    "\n",
    "The following examples show pairs of word sequences, the first of which is grammatical and the second not. (We use an asterisk at the start of a word sequence to signal that is ungrammatical.)\n",
    "\n",
    "(1)\t\t\n",
    "\n",
    "a.\t\tthis dog\n",
    "\n",
    "b.\t\t*these dog\n",
    "\n",
    "(2)\t\t\n",
    "\n",
    "a.\t\tthese dogs\n",
    "\n",
    "b.\t\t*this dogs\n",
    "\n",
    "In English, nouns are usually marked as being singular or plural. The form of the demonstrative also varies: this (singular) and these (plural). Examples (1b) and (2b) show that there are constraints on the use of demonstratives and nouns within a noun phrase: either both are singular or both are plural. A similar constraint holds between subjects and predicates:\n",
    "\n",
    "(3)\t\t\n",
    "\n",
    "a.\t\tthe dog runs\n",
    "\n",
    "b.\t\t*the dog run\n",
    "\n",
    "(4)\t\t\n",
    "\n",
    "a.\t\tthe dogs run\n",
    "\n",
    "b.\t\t*the dogs runs\n",
    "\n",
    "Here we can see that morphological properties of the verb co-vary with syntactic properties of the subject noun phrase. This co-variance is called agreement. If we look further at verb agreement in English, we will see that present tense verbs typically have two inflected forms: one for third person singular, and another for every other combination of person and number, as shown in 9.1.\n",
    "\n",
    "Table 9.1:\n",
    "Agreement Paradigm for English Regular Verbs\n",
    "* 1st per: I run (singular), we run (plural)\n",
    "* 2nd per: you run (singular), you run (plural)\n",
    "* 3rd per: he/she/it runs (singular), they run (plural)\n",
    "\n",
    "We can make the role of morphological properties a bit more explicit as illustrated in (5) and (6). These representations indicate that the verb agrees with its subject in person and number. (We use \"3\" as an abbreviation for 3rd person, \"SG\" for singular and \"PL\" for plural.)\n",
    "\n",
    "(5)\t\t\n",
    "the \tdog (dog.3.SG)\trun-s (run-3.SG)\n",
    "\n",
    "(6)\t\t\n",
    "the \tdog-s (dog.3.PL) run (run-3.PL)\n",
    "\n",
    "Let's see what happens when we encode these agreement constraints in a context-free grammar. We will begin with the simple CFG in (7).\n",
    "\n",
    "(7)\t\t\n",
    "\n",
    "* S   ->   NP VP  # Sentence is formed by noun phrase and verb phrase\n",
    "* NP  ->   Det N  # noun phrase is formed by determiner and noun\n",
    "* VP  ->   V      # verb phrase is formed by verb\n",
    "\n",
    "* Det  ->  'this' # determiner is 'this'\n",
    "* N    ->  'dog'  # noun is 'dog'\n",
    "* V    ->  'runs' # verb is 'runs'\n",
    "\n",
    "Grammar (7) allows us to generate the sentence \"this dog runs\"; however, what we really want to do is also generate these dogs run while blocking unwanted sequences like *this dogs run and *these dog runs. The most straightforward approach is to add new non-terminals and productions to the grammar:\n",
    "\n",
    "(8)\t\t\n",
    "\n",
    "* S -> NP_SG VP_SG # sentence can be singular noun phrase followed by singular verb phrase\n",
    "* S -> NP_PL VP_PL # sentence can be plural noun phrase followed by plural verb phrase\n",
    "* NP_SG -> Det_SG N_SG # singular noun phrase can be singular determiner followed by singular noun\n",
    "* NP_PL -> Det_PL N_PL # plural noun phrase can be plural determiner followed by plural noun\n",
    "* VP_SG -> V_SG # singular verb phrase is a singular verb\n",
    "* VP_PL -> V_PL # plural verb phrase is plural verb\n",
    "\n",
    "* Det_SG -> 'this'  # singular determiner is 'this'\n",
    "* Det_PL -> 'these' # plural determiner is 'these'\n",
    "* N_SG -> 'dog'     # singular noun is 'dog'\n",
    "* N_PL -> 'dogs'    # plural noun is 'dogs'\n",
    "* V_SG -> 'runs'    # singular verb is 'runs'\n",
    "* V_PL -> 'run'     # plural verb is 'run'\n",
    "\n",
    "In place of a single production expanding S, we now have two productions, one covering the sentences involving singular subject NPs and VPs, the other covering sentences with plural subject NPs and VPs. In fact, every production in (7) has two counterparts in (8). With a small grammar, this is not really such a problem, although it is aesthetically unappealing. However, with a larger grammar that covers a reasonable subset of English constructions, the prospect of doubling the grammar size is very unattractive. Let's suppose now that we used the same approach to deal with first, second and third person agreement, for both singular and plural. This would lead to the original grammar being multiplied by a factor of 6, which we definitely want to avoid. Can we do better than this? In the next section we will show that capturing number and person agreement need not come at the cost of \"blowing up\" the number of productions.\n",
    "\n"
   ]
  },
  {
   "cell_type": "markdown",
   "metadata": {},
   "source": [
    "### Using Attributes and Constraints\n",
    "\n",
    "We spoke informally of linguistic categories having properties; for example, that a noun has the property of being plural. Let's make this explicit:\n",
    "\n",
    "(9)\t\t\n",
    "\n",
    "N[NUM=pl]\n",
    "\n",
    "In (9), we have introduced some new notation which says that the category N has a (grammatical) feature called NUM (short for 'number') and that the value of this feature is pl (short for 'plural'). We can add similar annotations to other categories, and use them in lexical entries:\n",
    "\n",
    "(10)\t\t\n",
    "\n",
    "* Det[NUM=sg] -> 'this'\n",
    "* Det[NUM=pl] -> 'these'\n",
    "\n",
    "* N[NUM=sg] -> 'dog'\n",
    "* N[NUM=pl] -> 'dogs'\n",
    "* V[NUM=sg] -> 'runs'\n",
    "* V[NUM=pl] -> 'run'\n",
    "\n",
    "Does this help at all? So far, it looks just like a slightly more verbose alternative to what was specified in (8). Things become more interesting when we allow variables over feature values, and use these to state constraints:\n",
    "\n",
    "(11)\t\t\n",
    "\n",
    "* S -> NP[NUM=?n] VP[NUM=?n]\n",
    "* NP[NUM=?n] -> Det[NUM=?n] N[NUM=?n]\n",
    "* VP[NUM=?n] -> V[NUM=?n]\n",
    "\n",
    "We are using ?n as a variable over values of NUM; it can be instantiated either to sg or pl, within a given production. We can read the first production as saying that whatever value NP takes for the feature NUM, VP must take the same value.\n",
    "\n",
    "In order to understand how these feature constraints work, it's helpful to think about how one would go about building a tree. Lexical productions will admit the following local trees (trees of depth one):\n",
    "\n",
    "Now S -> NP[NUM=?n] VP[NUM=?n] says that whatever the NUM values of N and Det are, they have to be the same. Consequently, NP[NUM=?n] -> Det[NUM=?n] N[NUM=?n] will permit (12a) and (13a) to be combined into an NP as shown in (14a) and it will also allow (12b) and (13b) to be combined, as in (14b). By contrast, (15a) and (15b) are prohibited because the roots of their subtrees differ in their values for the NUM feature; this incompatibility of values is indicated informally with a FAIL value at the top node.\n",
    "\n",
    "Production VP[NUM=?n] -> V[NUM=?n] says that the NUM value of the head verb has to be the same as the NUM value of the VP parent. Combined with the production for expanding S, we derive the consequence that if the NUM value of the subject head noun is pl, then so is the NUM value of the VP's head verb.\n",
    "\n",
    "Grammar (10) illustrated lexical productions for determiners like this and these which require a singular or plural head noun respectively. However, other determiners in English are not choosy about the grammatical number of the noun they combine with. One way of describing this would be to add two lexical entries to the grammar, one each for the singular and plural versions of determiner such as the\n",
    "\n",
    "Det[NUM=sg] -> 'the' | 'some' | 'several'\n",
    "Det[NUM=pl] -> 'the' | 'some' | 'several'\n",
    "\n",
    "However, a more elegant solution is to leave the NUM value underspecified and letting it agree in number with whatever noun it combines with. Assigning a variable value to NUM is one way of achieving this result:\n",
    "\n",
    "Det[NUM=?n] -> 'the' | 'some' | 'several'\n",
    "\n",
    "But in fact we can be even more economical, and just omit any specification for NUM in such productions. We only need to explicitly enter a variable value when this constrains another value elsewhere in the same production.\n",
    "\n",
    "The grammar in 9.1 illustrates most of the ideas we have introduced so far in this chapter, plus a couple of new ones."
   ]
  },
  {
   "cell_type": "code",
   "execution_count": 10,
   "metadata": {
    "collapsed": false
   },
   "outputs": [
    {
     "name": "stdout",
     "output_type": "stream",
     "text": [
      "% start S\n",
      "# ###################\n",
      "# Grammar Productions\n",
      "# ###################\n",
      "# S expansion productions\n",
      "S -> NP[NUM=?n] VP[NUM=?n]\n",
      "# NP expansion productions\n",
      "NP[NUM=?n] -> N[NUM=?n] \n",
      "NP[NUM=?n] -> PropN[NUM=?n] \n",
      "NP[NUM=?n] -> Det[NUM=?n] N[NUM=?n]\n",
      "NP[NUM=pl] -> N[NUM=pl] \n",
      "# VP expansion productions\n",
      "VP[TENSE=?t, NUM=?n] -> IV[TENSE=?t, NUM=?n]\n",
      "VP[TENSE=?t, NUM=?n] -> TV[TENSE=?t, NUM=?n] NP\n",
      "# ###################\n",
      "# Lexical Productions\n",
      "# ###################\n",
      "Det[NUM=sg] -> 'this' | 'every'\n",
      "Det[NUM=pl] -> 'these' | 'all'\n",
      "Det -> 'the' | 'some' | 'several'\n",
      "PropN[NUM=sg]-> 'Kim' | 'Jody'\n",
      "N[NUM=sg] -> 'dog' | 'girl' | 'car' | 'child'\n",
      "N[NUM=pl] -> 'dogs' | 'girls' | 'cars' | 'children' \n",
      "IV[TENSE=pres,  NUM=sg] -> 'disappears' | 'walks'\n",
      "TV[TENSE=pres, NUM=sg] -> 'sees' | 'likes'\n",
      "IV[TENSE=pres,  NUM=pl] -> 'disappear' | 'walk'\n",
      "TV[TENSE=pres, NUM=pl] -> 'see' | 'like'\n",
      "IV[TENSE=past] -> 'disappeared' | 'walked'\n",
      "TV[TENSE=past] -> 'saw' | 'liked'\n"
     ]
    }
   ],
   "source": [
    "import nltk # always remember to import nltk package...\n",
    "nltk.data.show_cfg('grammars/book_grammars/feat0.fcfg')"
   ]
  },
  {
   "cell_type": "markdown",
   "metadata": {},
   "source": [
    "Notice that a syntactic category can have more than one feature; for example, V[TENSE=pres, NUM=pl]. In general, we can add as many features as we like.\n",
    "\n",
    "A final detail about 9.1 is the statement %start S. This \"directive\" tells the parser to take S as the start symbol for the grammar.\n",
    "\n",
    "In general, when we are trying to develop even a very small grammar, it is convenient to put the productions in a file where they can be edited, tested and revised. We have saved 9.1 as a file named 'feat0.fcfg' in the NLTK data distribution. You can make your own copy of this for further experimentation using nltk.data.load().\n",
    "\n",
    "Feature based grammars are parsed in NLTK using an Earley chart parser (see 9.5 for more information about this). After tokenizing the input, we import the load_parser function [1] which takes a grammar filename as input and returns a chart parser cp [2]. Calling the parser's nbest_parse() method will return a list trees of parse trees; trees will be empty if the grammar fails to parse the input and will contain one or more parse trees, depending on whether the input is syntactically ambiguous or not."
   ]
  },
  {
   "cell_type": "code",
   "execution_count": 12,
   "metadata": {
    "collapsed": false
   },
   "outputs": [
    {
     "name": "stdout",
     "output_type": "stream",
     "text": [
      "|.Kim .like.chil.|\n",
      "Leaf Init Rule:\n",
      "|[----]    .    .| [0:1] 'Kim'\n",
      "|.    [----]    .| [1:2] 'likes'\n",
      "|.    .    [----]| [2:3] 'children'\n",
      "Feature Bottom Up Predict Combine Rule:\n",
      "|[----]    .    .| [0:1] PropN[NUM='sg'] -> 'Kim' *\n",
      "Feature Bottom Up Predict Combine Rule:\n",
      "|[----]    .    .| [0:1] NP[NUM='sg'] -> PropN[NUM='sg'] *\n",
      "Feature Bottom Up Predict Combine Rule:\n",
      "|[---->    .    .| [0:1] S[] -> NP[NUM=?n] * VP[NUM=?n] {?n: u'sg'}\n",
      "Feature Bottom Up Predict Combine Rule:\n",
      "|.    [----]    .| [1:2] TV[NUM='sg', TENSE='pres'] -> 'likes' *\n",
      "Feature Bottom Up Predict Combine Rule:\n",
      "|.    [---->    .| [1:2] VP[NUM=?n, TENSE=?t] -> TV[NUM=?n, TENSE=?t] * NP[] {?n: u'sg', ?t: u'pres'}\n",
      "Feature Bottom Up Predict Combine Rule:\n",
      "|.    .    [----]| [2:3] N[NUM='pl'] -> 'children' *\n",
      "Feature Bottom Up Predict Combine Rule:\n",
      "|.    .    [----]| [2:3] NP[NUM='pl'] -> N[NUM='pl'] *\n",
      "Feature Bottom Up Predict Combine Rule:\n",
      "|.    .    [---->| [2:3] S[] -> NP[NUM=?n] * VP[NUM=?n] {?n: u'pl'}\n",
      "Feature Single Edge Fundamental Rule:\n",
      "|.    [---------]| [1:3] VP[NUM='sg', TENSE='pres'] -> TV[NUM='sg', TENSE='pres'] NP[] *\n",
      "Feature Single Edge Fundamental Rule:\n",
      "|[==============]| [0:3] S[] -> NP[NUM='sg'] VP[NUM='sg'] *\n"
     ]
    }
   ],
   "source": [
    "tokens = 'Kim likes children'.split()\n",
    "from nltk import load_parser \n",
    "cp = load_parser('grammars/book_grammars/feat0.fcfg', trace=2)\n",
    "trees = cp.chart_parse(tokens)"
   ]
  },
  {
   "cell_type": "markdown",
   "metadata": {},
   "source": [
    "The details of the parsing procedure are not that important for present purposes. However, there is an implementation issue which bears on our earlier discussion of grammar size. One possible approach to parsing productions containing feature constraints is to compile out all admissible values of the features in question so that we end up with a large, fully specified CFG along the lines of (8). By contrast, the parser process illustrated above works directly with the underspecified productions given by the grammar. Feature values \"flow upwards\" from lexical entries, and variable values are then associated with those values, via bindings (i.e., dictionaries) such as {?n: 'sg', ?t: 'pres'}. As the parser assembles information about the nodes of the tree it is building, these variable bindings are used to instantiate values in these nodes; thus the underspecified VP[NUM=?n, TENSE=?t] -> TV[NUM=?n, TENSE=?t] NP[] becomes instantiated as VP[NUM='sg', TENSE='pres'] -> TV[NUM='sg', TENSE='pres'] NP[] by looking up the values of ?n and ?t in the bindings.\n",
    "\n",
    "Finally, we can inspect the resulting parse trees (in this case, a single one)."
   ]
  },
  {
   "cell_type": "code",
   "execution_count": 13,
   "metadata": {
    "collapsed": false
   },
   "outputs": [
    {
     "name": "stdout",
     "output_type": "stream",
     "text": [
      "[0:1] 'Kim'\n",
      "[1:2] 'likes'\n",
      "[2:3] 'children'\n",
      "[0:1] PropN[NUM='sg'] -> 'Kim' *\n",
      "[0:1] NP[NUM='sg'] -> PropN[NUM='sg'] *\n",
      "[0:1] S[] -> NP[NUM=?n] * VP[NUM=?n] {?n: u'sg'}\n",
      "[1:2] TV[NUM='sg', TENSE='pres'] -> 'likes' *\n",
      "[1:2] VP[NUM=?n, TENSE=?t] -> TV[NUM=?n, TENSE=?t] * NP[] {?n: u'sg', ?t: u'pres'}\n",
      "[2:3] N[NUM='pl'] -> 'children' *\n",
      "[2:3] NP[NUM='pl'] -> N[NUM='pl'] *\n",
      "[2:3] S[] -> NP[NUM=?n] * VP[NUM=?n] {?n: u'pl'}\n",
      "[1:3] VP[NUM='sg', TENSE='pres'] -> TV[NUM='sg', TENSE='pres'] NP[] *\n",
      "[0:3] S[] -> NP[NUM='sg'] VP[NUM='sg'] *\n"
     ]
    }
   ],
   "source": [
    "for tree in trees: print tree"
   ]
  },
  {
   "cell_type": "markdown",
   "metadata": {},
   "source": [
    "### Terminology\n",
    "\n",
    "So far, we have only seen feature values like sg and pl. These simple values are usually called atomic — that is, they can't be decomposed into subparts. A special case of atomic values are boolean values, that is, values that just specify whether a property is true or false. For example, we might want to distinguish auxiliary verbs such as can, may, will and do with the boolean feature AUX. For example, the production V[TENSE=pres, aux=+] -> 'can' means that can receives the value pres for TENSE and + or true for AUX. There is a widely adopted convention which abbreviates the representation of boolean features f; instead of aux=+ or aux=-, we use +aux and -aux respectively. These are just abbreviations, however, and the parser interprets them as though + and - are like any other atomic value. (17) shows some representative productions:\n",
    "\n",
    "(17)\t\t\n",
    "* V[TENSE=pres, +aux] -> 'can'\n",
    "* V[TENSE=pres, +aux] -> 'may'\n",
    "* V[TENSE=pres, -aux] -> 'walks'\n",
    "* V[TENSE=pres, -aux] -> 'likes'\n",
    "\n",
    "We have spoken of attaching \"feature annotations\" to syntactic categories. A more radical approach represents the whole category — that is, the non-terminal symbol plus the annotation — as a bundle of features. For example, N[NUM=sg] contains part of speech information which can be represented as POS=N. An alternative notation for this category therefore is [POS=N, NUM=sg].\n",
    "\n",
    "In addition to atomic-valued features, features may take values that are themselves feature structures. For example, we can group together agreement features (e.g., person, number and gender) as a distinguished part of a category, grouped together as the value of AGR. In this case, we say that AGR has a complex value. (18) depicts the structure, in a format known as an attribute value matrix (AVM).\n",
    "\n",
    "(18)\t\t\n",
    "\n",
    "* [POS = N           ]\n",
    "* [                  ]\n",
    "* [AGR = [PER = 3   ]]\n",
    "* [      [NUM = pl  ]]\n",
    "* [      [GND = fem ]]\n",
    "\n",
    "In passing, we should point out that there are alternative approaches for displaying AVMs; 9.3 shows an example. Athough feature structures rendered in the style of (18) are less visually pleasing, we will stick with this format, since it corresponds to the output we will be getting from NLTK.\n",
    "\n",
    "On the topic of representation, we also note that feature structures, like dictionaries, assign no particular significance to the order of features. So (18) is equivalent to:\n",
    "\n",
    "(19)\n",
    "* [AGR = [NUM = pl  ]]\n",
    "* [      [PER = 3   ]]\n",
    "* [      [GND = fem ]]\n",
    "* [                  ]\n",
    "* [POS = N           ]\n",
    "\n",
    "Once we have the possibility of using features like AGR, we can refactor a grammar like 9.1 so that agreement features are bundled together. A tiny grammar illustrating this idea is shown in (20).\n",
    "\n",
    "(20)\t\t\n",
    "\n",
    "* S                    -> NP[AGR=?n] VP[AGR=?n]\n",
    "* NP[AGR=?n]           -> PropN[AGR=?n]\n",
    "* VP[TENSE=?t, AGR=?n] -> Cop[TENSE=?t, AGR=?n] Adj\n",
    "\n",
    "* Cop[TENSE=pres,  AGR=[NUM=sg, PER=3]] -> 'is'\n",
    "* PropN[AGR=[NUM=sg, PER=3]]            -> 'Kim'\n",
    "* Adj                                   -> 'happy'\n"
   ]
  },
  {
   "cell_type": "markdown",
   "metadata": {
    "collapsed": true
   },
   "source": [
    "## 9.2   Processing Feature Structures\n",
    "\n",
    "In this section, we will show how feature structures can be constructed and manipulated in NLTK. We will also discuss the fundamental operation of unification, which allows us to combine the information contained in two different feature structures.\n",
    "\n",
    "Feature structures in NLTK are declared with the FeatStruct() constructor. Atomic feature values can be strings or integers."
   ]
  },
  {
   "cell_type": "code",
   "execution_count": 2,
   "metadata": {
    "collapsed": false
   },
   "outputs": [
    {
     "name": "stdout",
     "output_type": "stream",
     "text": [
      "[ NUM   = 'sg'   ]\n",
      "[ TENSE = 'past' ]\n"
     ]
    }
   ],
   "source": [
    "import nltk\n",
    "fs1 = nltk.FeatStruct(TENSE='past', NUM='sg')\n",
    "print fs1"
   ]
  },
  {
   "cell_type": "markdown",
   "metadata": {},
   "source": [
    "A feature structure is actually just a kind of dictionary, and so we access its values by indexing in the usual way. We can use our familiar syntax to assign values to features:"
   ]
  },
  {
   "cell_type": "code",
   "execution_count": 4,
   "metadata": {
    "collapsed": false
   },
   "outputs": [
    {
     "name": "stdout",
     "output_type": "stream",
     "text": [
      "fem\n"
     ]
    }
   ],
   "source": [
    "fs1 = nltk.FeatStruct(PER=3, NUM='pl', GND='fem')\n",
    "print fs1['GND']\n",
    "fs1['CASE'] = 'acc'"
   ]
  },
  {
   "cell_type": "markdown",
   "metadata": {},
   "source": [
    "We can also define feature structures that have complex values, as discussed earlier."
   ]
  },
  {
   "cell_type": "code",
   "execution_count": 5,
   "metadata": {
    "collapsed": false
   },
   "outputs": [
    {
     "name": "stdout",
     "output_type": "stream",
     "text": [
      "[       [ CASE = 'acc' ] ]\n",
      "[ AGR = [ GND  = 'fem' ] ]\n",
      "[       [ NUM  = 'pl'  ] ]\n",
      "[       [ PER  = 3     ] ]\n",
      "[                        ]\n",
      "[ POS = 'N'              ]\n"
     ]
    }
   ],
   "source": [
    "fs2 = nltk.FeatStruct(POS='N', AGR=fs1)\n",
    "print fs2"
   ]
  },
  {
   "cell_type": "code",
   "execution_count": 6,
   "metadata": {
    "collapsed": false
   },
   "outputs": [
    {
     "name": "stdout",
     "output_type": "stream",
     "text": [
      "[ CASE = 'acc' ]\n",
      "[ GND  = 'fem' ]\n",
      "[ NUM  = 'pl'  ]\n",
      "[ PER  = 3     ]\n"
     ]
    }
   ],
   "source": [
    "print fs2['AGR']"
   ]
  },
  {
   "cell_type": "code",
   "execution_count": 7,
   "metadata": {
    "collapsed": false
   },
   "outputs": [
    {
     "name": "stdout",
     "output_type": "stream",
     "text": [
      "3\n"
     ]
    }
   ],
   "source": [
    "print fs2['AGR']['PER']"
   ]
  },
  {
   "cell_type": "markdown",
   "metadata": {},
   "source": [
    "An alternative method of specifying feature structures is to use a bracketed string consisting of feature-value pairs in the format feature=value, where values may themselves be feature structures:"
   ]
  },
  {
   "cell_type": "code",
   "execution_count": 8,
   "metadata": {
    "collapsed": false
   },
   "outputs": [
    {
     "name": "stdout",
     "output_type": "stream",
     "text": [
      "[       [ GND = 'fem' ] ]\n",
      "[ AGR = [ NUM = 'pl'  ] ]\n",
      "[       [ PER = 3     ] ]\n",
      "[                       ]\n",
      "[ POS = 'N'             ]\n"
     ]
    }
   ],
   "source": [
    "print nltk.FeatStruct(\"[POS='N', AGR=[PER=3, NUM='pl', GND='fem']]\")"
   ]
  },
  {
   "cell_type": "markdown",
   "metadata": {},
   "source": [
    "Feature structures are not inherently tied to linguistic objects; they are general purpose structures for representing knowledge. For example, we could encode information about a person in a feature structure:"
   ]
  },
  {
   "cell_type": "code",
   "execution_count": 9,
   "metadata": {
    "collapsed": false
   },
   "outputs": [
    {
     "name": "stdout",
     "output_type": "stream",
     "text": [
      "[ age   = 33               ]\n",
      "[ name  = 'Lee'            ]\n",
      "[ telno = '01 27 86 42 96' ]\n"
     ]
    }
   ],
   "source": [
    "print nltk.FeatStruct(name='Lee', telno='01 27 86 42 96', age=33)"
   ]
  },
  {
   "cell_type": "markdown",
   "metadata": {},
   "source": [
    "In the next couple of pages, we are going to use examples like this to explore standard operations over feature structures. This will briefly divert us from processing natural language, but we need to lay the groundwork before we can get back to talking about grammars. Hang on tight!\n",
    "\n",
    "It is often helpful to view feature structures as graphs; more specifically, directed acyclic graphs (DAGs). (21) is equivalent to the above AVM. The feature names appear as labels on the directed arcs, and feature values appear as labels on the nodes that are pointed to by the arcs.\n",
    "\n",
    "Just as before, feature values can be complex...\n",
    "\n",
    "When we look at such graphs, it is natural to think in terms of paths through the graph. A feature path is a sequence of arcs that can be followed from the root node. We will represent paths as tuples. Thus, ('address', 'street') is a feature path whose value in (22) is the sequence \"rue Pascal\".\n",
    "\n",
    "Now let's consider a situation where Lee has a spouse named \"Kim\", and Kim's address is the same as Lee's. We might represent this as (23). However, rather than repeating the address information in the feature structure, we can \"share\" the same sub-graph between different arcs...\n",
    "\n",
    "In other words, the value of the path ('ADDRESS') in (24) is identical to the value of the path ('SPOUSE', 'ADDRESS'). DAGs such as (24) are said to involve structure sharing or reentrancy. When two paths have the same value, they are said to be equivalent.\n",
    "\n",
    "In order to indicate reentrancy in our matrix-style representations, we will prefix the first occurrence of a shared feature structure with an integer in parentheses, such as (1). Any later reference to that structure will use the notation ->(1), as shown below.\n"
   ]
  },
  {
   "cell_type": "code",
   "execution_count": 10,
   "metadata": {
    "collapsed": false
   },
   "outputs": [
    {
     "name": "stdout",
     "output_type": "stream",
     "text": [
      "[ ADDRESS = (1) [ NUMBER = 74           ] ]\n",
      "[               [ STREET = 'rue Pascal' ] ]\n",
      "[                                         ]\n",
      "[ NAME    = 'Lee'                         ]\n",
      "[                                         ]\n",
      "[ SPOUSE  = [ ADDRESS -> (1)  ]           ]\n",
      "[           [ NAME    = 'Kim' ]           ]\n"
     ]
    }
   ],
   "source": [
    "print nltk.FeatStruct(\"\"\"[NAME='Lee', ADDRESS=(1)[NUMBER=74, STREET='rue Pascal'],\n",
    "                         SPOUSE=[NAME='Kim', ADDRESS->(1)]]\"\"\")"
   ]
  },
  {
   "cell_type": "markdown",
   "metadata": {},
   "source": [
    "The bracketed integer is sometimes called a tag or a coindex. The choice of integer is not significant. There can be any number of tags within a single feature structure."
   ]
  },
  {
   "cell_type": "code",
   "execution_count": 11,
   "metadata": {
    "collapsed": false
   },
   "outputs": [
    {
     "name": "stdout",
     "output_type": "stream",
     "text": [
      "[ A = 'a'             ]\n",
      "[                     ]\n",
      "[ B = (1) [ C = 'c' ] ]\n",
      "[                     ]\n",
      "[ D -> (1)            ]\n",
      "[ E -> (1)            ]\n"
     ]
    }
   ],
   "source": [
    "print nltk.FeatStruct(\"[A='a', B=(1)[C='c'], D->(1), E->(1)]\")"
   ]
  },
  {
   "cell_type": "markdown",
   "metadata": {
    "collapsed": true
   },
   "source": [
    "### Subsumption and Unification\n",
    "\n",
    "It is standard to think of feature structures as providing partial information about some object, in the sense that we can order feature structures according to how general they are. For example, (25a) is more general (less specific) than (25b), which in turn is more general than (25c).\n",
    "\n",
    "* a.\t\t\n",
    "\n",
    "[NUMBER = 74]\n",
    "\n",
    "* b.\t\t\n",
    "\n",
    "[NUMBER = 74          ]\n",
    "[street = 'rue Pascal']\n",
    "\n",
    "* c.\t\t\n",
    "\n",
    "[NUMBER = 74          ]\n",
    "[STREET = 'rue Pascal']\n",
    "[CITY = 'Paris'       ]\n",
    "\n",
    "This ordering is called subsumption; a more general feature structure subsumes a less general one. If FS0 subsumes FS1 (formally, we write FS0 ⊑ FS1), then FS1 must have all the paths and path equivalences of FS0, and may have additional paths and equivalences as well. Thus, (23) subsumes (24), since the latter has additional path equivalences. It should be obvious that subsumption only provides a partial ordering on feature structures, since some feature structures are incommensurable. For example, (26) neither subsumes nor is subsumed by (25a).\n",
    "\n",
    "* (26)\t\t\n",
    "\n",
    "[TELNO = 01 27 86 42 96]\n",
    "\n",
    "So we have seen that some feature structures are more specific than others. How do we go about specializing a given feature structure? For example, we might decide that addresses should consist of not just a street number and a street name, but also a city. That is, we might want to merge graph (27b) with (27a) to yield (27c).\n",
    "\n",
    "Merging information from two feature structures is called unification and is supported by the unify() method."
   ]
  },
  {
   "cell_type": "code",
   "execution_count": 2,
   "metadata": {
    "collapsed": false
   },
   "outputs": [
    {
     "name": "stdout",
     "output_type": "stream",
     "text": [
      "[ CITY   = 'Paris'      ]\n",
      "[ NUMBER = 74           ]\n",
      "[ STREET = 'rue Pascal' ]\n"
     ]
    }
   ],
   "source": [
    "import nltk\n",
    "fs1 = nltk.FeatStruct(NUMBER=74, STREET='rue Pascal')\n",
    "fs2 = nltk.FeatStruct(CITY='Paris')\n",
    "print fs1.unify(fs2)"
   ]
  },
  {
   "cell_type": "markdown",
   "metadata": {},
   "source": [
    "Unification is formally defined as a binary operation: FS0 ⊓ FS1. Unification is symmetric, so FS0 ⊓ FS1 = FS1 ⊓ FS0. The same is true in Python:"
   ]
  },
  {
   "cell_type": "code",
   "execution_count": 3,
   "metadata": {
    "collapsed": false
   },
   "outputs": [
    {
     "name": "stdout",
     "output_type": "stream",
     "text": [
      "[ CITY   = 'Paris'      ]\n",
      "[ NUMBER = 74           ]\n",
      "[ STREET = 'rue Pascal' ]\n"
     ]
    }
   ],
   "source": [
    "print fs2.unify(fs1)"
   ]
  },
  {
   "cell_type": "markdown",
   "metadata": {},
   "source": [
    "If we unify two feature structures which stand in the subsumption relationship, then the result of unification is the most specific of the two:\n",
    "\n",
    "(28)\t\tIf FS0 ⊑ FS1, then FS0 ⊓ FS1 = FS1\n",
    "\n",
    "For example, the result of unifying (25b) with (25c) is (25c).\n",
    "\n",
    "Unification between FS0 and FS1 will fail if the two feature structures share a path π, but the value of π in FS0 is a distinct atom from the value of π in FS1. This is implemented by setting the result of unification to be None."
   ]
  },
  {
   "cell_type": "code",
   "execution_count": 4,
   "metadata": {
    "collapsed": false
   },
   "outputs": [
    {
     "name": "stdout",
     "output_type": "stream",
     "text": [
      "None\n"
     ]
    }
   ],
   "source": [
    "fs0 = nltk.FeatStruct(A='a')\n",
    "fs1 = nltk.FeatStruct(A='b')\n",
    "fs2 = fs0.unify(fs1)\n",
    "print fs2"
   ]
  },
  {
   "cell_type": "markdown",
   "metadata": {},
   "source": [
    "Now, if we look at how unification interacts with structure-sharing, things become really interesting. First, let's define (23) in Python:"
   ]
  },
  {
   "cell_type": "code",
   "execution_count": 5,
   "metadata": {
    "collapsed": false
   },
   "outputs": [
    {
     "name": "stdout",
     "output_type": "stream",
     "text": [
      "[ ADDRESS = [ NUMBER = 74           ]               ]\n",
      "[           [ STREET = 'rue Pascal' ]               ]\n",
      "[                                                   ]\n",
      "[ NAME    = 'Lee'                                   ]\n",
      "[                                                   ]\n",
      "[           [ ADDRESS = [ NUMBER = 74           ] ] ]\n",
      "[ SPOUSE  = [           [ STREET = 'rue Pascal' ] ] ]\n",
      "[           [                                     ] ]\n",
      "[           [ NAME    = 'Kim'                     ] ]\n"
     ]
    }
   ],
   "source": [
    "fs0 = nltk.FeatStruct(\"\"\"[NAME=Lee,\n",
    "                          ADDRESS=[NUMBER=74,\n",
    "                                   STREET='rue Pascal'],\n",
    "                          SPOUSE= [NAME=Kim,\n",
    "                                   ADDRESS=[NUMBER=74,\n",
    "                                            STREET='rue Pascal']]]\"\"\")\n",
    "print fs0"
   ]
  },
  {
   "cell_type": "markdown",
   "metadata": {},
   "source": [
    "What happens when we augment Kim's address with a specification for CITY? Notice that fs1 needs to include the whole path from the root of the feature structure down to CITY."
   ]
  },
  {
   "cell_type": "code",
   "execution_count": 6,
   "metadata": {
    "collapsed": false
   },
   "outputs": [
    {
     "name": "stdout",
     "output_type": "stream",
     "text": [
      "[ ADDRESS = [ NUMBER = 74           ]               ]\n",
      "[           [ STREET = 'rue Pascal' ]               ]\n",
      "[                                                   ]\n",
      "[ NAME    = 'Lee'                                   ]\n",
      "[                                                   ]\n",
      "[           [           [ CITY   = 'Paris'      ] ] ]\n",
      "[           [ ADDRESS = [ NUMBER = 74           ] ] ]\n",
      "[ SPOUSE  = [           [ STREET = 'rue Pascal' ] ] ]\n",
      "[           [                                     ] ]\n",
      "[           [ NAME    = 'Kim'                     ] ]\n"
     ]
    }
   ],
   "source": [
    "fs1 = nltk.FeatStruct(\"[SPOUSE = [ADDRESS = [CITY = Paris]]]\")\n",
    "print fs1.unify(fs0)"
   ]
  },
  {
   "cell_type": "markdown",
   "metadata": {},
   "source": [
    "By contrast, the result is very different if fs1 is unified with the structure-sharing version fs2 (also shown earlier as the graph (24)):"
   ]
  },
  {
   "cell_type": "code",
   "execution_count": 7,
   "metadata": {
    "collapsed": false
   },
   "outputs": [
    {
     "name": "stdout",
     "output_type": "stream",
     "text": [
      "[               [ CITY   = 'Paris'      ] ]\n",
      "[ ADDRESS = (1) [ NUMBER = 74           ] ]\n",
      "[               [ STREET = 'rue Pascal' ] ]\n",
      "[                                         ]\n",
      "[ NAME    = 'Lee'                         ]\n",
      "[                                         ]\n",
      "[ SPOUSE  = [ ADDRESS -> (1)  ]           ]\n",
      "[           [ NAME    = 'Kim' ]           ]\n"
     ]
    }
   ],
   "source": [
    "fs2 = nltk.FeatStruct(\"\"\"[NAME=Lee, ADDRESS=(1)[NUMBER=74, STREET='rue Pascal'],\n",
    "                          SPOUSE=[NAME=Kim, ADDRESS->(1)]]\"\"\")\n",
    "print fs1.unify(fs2)"
   ]
  },
  {
   "cell_type": "markdown",
   "metadata": {},
   "source": [
    "Rather than just updating what was in effect Kim's \"copy\" of Lee's address, we have now updated both their addresses at the same time. More generally, if a unification involves specializing the value of some path π, then that unification simultaneously specializes the value of any path that is equivalent to π.\n",
    "\n",
    "As we have already seen, structure sharing can also be stated using variables such as ?x."
   ]
  },
  {
   "cell_type": "code",
   "execution_count": 8,
   "metadata": {
    "collapsed": false
   },
   "outputs": [
    {
     "name": "stdout",
     "output_type": "stream",
     "text": [
      "[ ADDRESS1 = ?x ]\n",
      "[ ADDRESS2 = ?x ]\n"
     ]
    }
   ],
   "source": [
    "fs1 = nltk.FeatStruct(\"[ADDRESS1=[NUMBER=74, STREET='rue Pascal']]\")\n",
    "fs2 = nltk.FeatStruct(\"[ADDRESS1=?x, ADDRESS2=?x]\")\n",
    "print fs2"
   ]
  },
  {
   "cell_type": "code",
   "execution_count": 9,
   "metadata": {
    "collapsed": false
   },
   "outputs": [
    {
     "name": "stdout",
     "output_type": "stream",
     "text": [
      "[ ADDRESS1 = (1) [ NUMBER = 74           ] ]\n",
      "[                [ STREET = 'rue Pascal' ] ]\n",
      "[                                          ]\n",
      "[ ADDRESS2 -> (1)                          ]\n"
     ]
    }
   ],
   "source": [
    "print fs2.unify(fs1)"
   ]
  },
  {
   "cell_type": "markdown",
   "metadata": {},
   "source": [
    "## 9.3   Extending a Feature based Grammar\n",
    "\n",
    "In this section, we return to feature based grammar and explore a variety of linguistic issues, and demonstrate the benefits of incorporating features into the grammar.\n",
    "Subcategorization\n",
    "\n",
    "In 8, we augmented our category labels to represent different kinds of verb, and used the labels IV and TV for intransitive and transitive verbs respectively. This allowed us to write productions like the following:\n",
    "\n",
    "* (29)\t\t\n",
    "\n",
    "VP -> IV\n",
    "VP -> TV NP\n",
    "\n",
    "Although we know that IV and TV are two kinds of V, they are just atomic nonterminal symbols from a CFG, as distinct from each other as any other pair of symbols. This notation doesn't let us say anything about verbs in general, e.g. we cannot say \"All lexical items of category V can be marked for tense\", since walk, say, is an item of category IV, not V. So, can we replace category labels such as TV and IV by V along with a feature that tells us whether the verb combines with a following NP object or whether it can occur without any complement?\n",
    "\n",
    "A simple approach, originally developed for a grammar framework called Generalized Phrase Structure Grammar (GPSG), tries to solve this problem by allowing lexical categories to bear a SUBCAT which tells us what subcategorization class the item belongs to. While GPSG used integer values for SUBCAT, the example below adopts more mnemonic values, namely intrans, trans and clause:\n",
    "\n",
    "(30)\t\t\n",
    "\n",
    "VP[TENSE=?t, NUM=?n] -> V[SUBCAT=intrans, TENSE=?t, NUM=?n]\n",
    "VP[TENSE=?t, NUM=?n] -> V[SUBCAT=trans, TENSE=?t, NUM=?n] NP\n",
    "VP[TENSE=?t, NUM=?n] -> V[SUBCAT=clause, TENSE=?t, NUM=?n] SBar\n",
    "\n",
    "V[SUBCAT=intrans, TENSE=pres, NUM=sg] -> 'disappears' | 'walks'\n",
    "V[SUBCAT=trans, TENSE=pres, NUM=sg] -> 'sees' | 'likes'\n",
    "V[SUBCAT=clause, TENSE=pres, NUM=sg] -> 'says' | 'claims'\n",
    "\n",
    "V[SUBCAT=intrans, TENSE=pres, NUM=pl] -> 'disappear' | 'walk'\n",
    "V[SUBCAT=trans, TENSE=pres, NUM=pl] -> 'see' | 'like'\n",
    "V[SUBCAT=clause, TENSE=pres, NUM=pl] -> 'say' | 'claim'\n",
    "\n",
    "V[SUBCAT=intrans, TENSE=past, NUM=?n] -> 'disappeared' | 'walked'\n",
    "V[SUBCAT=trans, TENSE=past, NUM=?n] -> 'saw' | 'liked'\n",
    "V[SUBCAT=clause, TENSE=past, NUM=?n] -> 'said' | 'claimed'\n",
    "\n",
    "When we see a lexical category like V[SUBCAT=trans], we can interpret the SUBCAT specification as a pointer to a production in which V[SUBCAT=trans] is introduced as the head child in a VP production. By convention, there is a correspondence between the values of SUBCAT and the productions that introduce lexical heads. On this approach, SUBCAT can only appear on lexical categories; it makes no sense, for example, to specify a SUBCAT value on VP. As required, walk and like both belong to the category V. Nevertheless, walk will only occur in VPs expanded by a production with the feature SUBCAT=intrans on the right hand side, as opposed to like, which requires a SUBCAT=trans.\n",
    "\n",
    "In our third class of verbs above, we have specified a category SBar. This is a label for subordinate clauses such as the complement of claim in the example You claim that you like children. We require two further productions to analyze such sentences:\n",
    "\n",
    "(31)\t\t\n",
    "\n",
    "SBar -> Comp S\n",
    "Comp -> 'that'\n",
    "\n",
    "The resulting structure is the following.\n",
    "\n",
    "(32)\t\ttree_images/ch09-tree-10.png\n",
    "\n",
    "An alternative treatment of subcategorization, due originally to a framework known as categorial grammar, is represented in feature based frameworks such as PATR and Head-driven Phrase Structure Grammar. Rather than using SUBCAT values as a way of indexing productions, the SUBCAT value directly encodes the valency of a head (the list of arguments that it can combine with). For example, a verb like put that takes NP and PP complements (put the book on the table) might be represented as (33):\n",
    "\n",
    "(33)\t\t\n",
    "\n",
    "V[SUBCAT=<NP, NP, PP>]\n",
    "\n",
    "This says that the verb can combine with three arguments. The leftmost element in the list is the subject NP, while everything else — an NP followed by a PP in this case — comprises the subcategorized-for complements. When a verb like put is combined with appropriate complements, the requirements which are specified in the SUBCAT are discharged, and only a subject NP is needed. This category, which corresponds to what is traditionally thought of as VP, might be represented as follows.\n",
    "\n",
    "(34)\t\t\n",
    "\n",
    "V[SUBCAT=<NP>]\n",
    "\n",
    "Finally, a sentence is a kind of verbal category that has no requirements for further arguments, and hence has a SUBCAT whose value is the empty list. The tree (35) shows how these category assignments combine in a parse of Kim put the book on the table."
   ]
  },
  {
   "cell_type": "markdown",
   "metadata": {},
   "source": [
    "### Heads Revisited\n",
    "\n",
    "We noted in the previous section that by factoring subcategorization information out of the main category label, we could express more generalizations about properties of verbs. Another property of this kind is the following: expressions of category V are heads of phrases of category VP. Similarly, Ns are heads of NPs, As (i.e., adjectives) are heads of APs, and Ps (i.e., prepositions) are heads of PPs. Not all phrases have heads — for example, it is standard to say that coordinate phrases (e.g., the book and the bell) lack heads — nevertheless, we would like our grammar formalism to express the parent / head-child relation where it holds. At present, V and VP are just atomic symbols, and we need to find a way to relate them using features (as we did earlier to relate IV and TV).\n",
    "\n",
    "X-bar Syntax addresses this issue by abstracting out the notion of phrasal level. It is usual to recognize three such levels. If N represents the lexical level, then N' represents the next level up, corresponding to the more traditional category Nom, while N'' represents the phrasal level, corresponding to the category NP. (36a) illustrates a representative structure while (36b) is the more conventional counterpart.\n",
    "\n",
    "The head of the structure (36a) is N while N' and N'' are called (phrasal) projections of N. N'' is the maximal projection, and N is sometimes called the zero projection. One of the central claims of X-bar syntax is that all constituents share a structural similarity. Using X as a variable over N, V, A and P, we say that directly subcategorized complements of a lexical head X are always placed as siblings of the head, whereas adjuncts are placed as siblings of the intermediate category, X'. Thus, the configuration of the two P'' adjuncts in (37) contrasts with that of the complement P'' in (36a).\n",
    "\n",
    "The productions in (38) illustrate how bar levels can be encoded using feature structures. The nested structure in (37) is achieved by two applications of the recursive rule expanding N[BAR=1].\n",
    "\n",
    "(38)\t\t\n",
    "\n",
    "S -> N[BAR=2] V[BAR=2]\n",
    "N[BAR=2] -> Det N[BAR=1]\n",
    "N[BAR=1] -> N[BAR=1] P[BAR=2]\n",
    "N[BAR=1] -> N[BAR=0] P[BAR=2]\n"
   ]
  },
  {
   "cell_type": "markdown",
   "metadata": {},
   "source": [
    "### Auxiliary Verbs and Inversion\n",
    "\n",
    "Inverted clauses — where the order of subject and verb is switched — occur in English interrogatives and also after 'negative' adverbs:\n",
    "\n",
    "(39)\t\t\n",
    "\n",
    "a.\t\tDo you like children?\n",
    "\n",
    "b.\t\tCan Jody walk?\n",
    "\n",
    "(40)\t\t\n",
    "\n",
    "a.\t\tRarely do you see Kim.\n",
    "\n",
    "b.\t\tNever have I seen this dog.\n",
    "\n",
    "However, we cannot place just any verb in pre-subject position:\n",
    "\n",
    "(41)\t\t\n",
    "\n",
    "a.\t\t*Like you children?\n",
    "\n",
    "b.\t\t*Walks Jody?\n",
    "\n",
    "(42)\t\t\n",
    "\n",
    "a.\t\t*Rarely see you Kim.\n",
    "\n",
    "b.\t\t*Never saw I this dog.\n",
    "\n",
    "Verbs that can be positioned initially in inverted clauses belong to the class known as auxiliaries, and as well as do, can and have include be, will and shall. One way of capturing such structures is with the following production:\n",
    "\n",
    "(43)\t\t\n",
    "\n",
    "S[+INV] -> V[+AUX] NP VP\n",
    "\n",
    "That is, a clause marked as [+inv] consists of an auxiliary verb followed by a VP. (In a more detailed grammar, we would need to place some constraints on the form of the VP, depending on the choice of auxiliary.) (44) illustrates the structure of an inverted clause.\n",
    "\n",
    "(44)\t\ttree_images/ch09-tree-15.png"
   ]
  },
  {
   "cell_type": "markdown",
   "metadata": {},
   "source": [
    "### Unbounded Dependency Constructions\n",
    "\n",
    "Consider the following contrasts:\n",
    "\n",
    "(45)\t\t\n",
    "\n",
    "a.\t\tYou like Jody.\n",
    "\n",
    "b.\t\t*You like.\n",
    "\n",
    "(46)\t\t\n",
    "\n",
    "a.\t\tYou put the card into the slot.\n",
    "\n",
    "b.\t\t*You put into the slot.\n",
    "\n",
    "c.\t\t*You put the card.\n",
    "\n",
    "d.\t\t*You put.\n",
    "\n",
    "The verb like requires an NP complement, while put requires both a following NP and PP. (45) and (46) show that these complements are obligatory: omitting them leads to ungrammaticality. Yet there are contexts in which obligatory complements can be omitted, as (47) and (48) illustrate.\n",
    "\n",
    "(47)\t\t\n",
    "\n",
    "a.\t\tKim knows who you like.\n",
    "\n",
    "b.\t\tThis music, you really like.\n",
    "\n",
    "(48)\t\t\n",
    "\n",
    "a.\t\tWhich card do you put into the slot?\n",
    "\n",
    "b.\t\tWhich slot do you put the card into?\n",
    "\n",
    "That is, an obligatory complement can be omitted if there is an appropriate filler in the sentence, such as the question word who in (47a), the preposed topic this music in (47b), or the wh phrases which card/slot in (48). It is common to say that sentences like (47) – (48) contain gaps where the obligatory complements have been omitted, and these gaps are sometimes made explicit using an underscore:\n",
    "\n",
    "(49)\t\t\n",
    "\n",
    "a.\t\tWhich card do you put __ into the slot?\n",
    "\n",
    "b.\t\tWhich slot do you put the card into __?\n",
    "\n",
    "So, a gap can occur if it is licensed by a filler. Conversely, fillers can only occur if there is an appropriate gap elsewhere in the sentence, as shown by the following examples.\n",
    "\n",
    "(50)\t\t\n",
    "\n",
    "a.\t\t*Kim knows who you like Jody.\n",
    "\n",
    "b.\t\t*This music, you really like hip-hop.\n",
    "\n",
    "(51)\t\t\n",
    "\n",
    "a.\t\t*Which card do you put this into the slot?\n",
    "\n",
    "b.\t\t*Which slot do you put the card into this one?\n",
    "\n",
    "The mutual co-occurence between filler and gap is sometimes termed a \"dependency\". One issue of considerable importance in theoretical linguistics has been the nature of the material that can intervene between a filler and the gap that it licenses; in particular, can we simply list a finite set of sequences that separate the two? The answer is No: there is no upper bound on the distance between filler and gap. This fact can be easily illustrated with constructions involving sentential complements, as shown in (52).\n",
    "\n",
    "(52)\t\t\n",
    "\n",
    "a.\t\tWho do you like __?\n",
    "\n",
    "b.\t\tWho do you claim that you like __?\n",
    "\n",
    "c.\t\tWho do you claim that Jody says that you like __?\n",
    "\n",
    "Since we can have indefinitely deep recursion of sentential complements, the gap can be embedded indefinitely far inside the whole sentence. This constellation of properties leads to the notion of an unbounded dependency construction; that is, a filler-gap dependency where there is no upper bound on the distance between filler and gap.\n",
    "\n",
    "A variety of mechanisms have been suggested for handling unbounded dependencies in formal grammars; here we illustrate the approach due to Generalized Phrase Structure Grammar that involves slash categories. A slash category has the form Y/XP; we interpret this as a phrase of category Y that is missing a sub-constituent of category XP. For example, S/NP is an S that is missing an NP. The use of slash categories is illustrated in (53).\n",
    "\n",
    "The top part of the tree introduces the filler who (treated as an expression of category NP[+wh]) together with a corresponding gap-containing constituent S/NP. The gap information is then \"percolated\" down the tree via the VP/NP category, until it reaches the category NP/NP. At this point, the dependency is discharged by realizing the gap information as the empty string, immediately dominated by NP/NP.\n",
    "\n",
    "Do we need to think of slash categories as a completely new kind of object? Fortunately, we can accommodate them within our existing feature based framework, by treating slash as a feature, and the category to its right as a value; that is, S/NP is reducible S[SLASH=NP]. In practice, this is also how the parser interprets slassh categories.\n",
    "\n",
    "The grammar show in 9.4 illustrates the main principles of slash categories, and also includes productions for inverted clauses. To simplify presentation, we have omitted any specification of tense on the verbs.\n"
   ]
  },
  {
   "cell_type": "code",
   "execution_count": 10,
   "metadata": {
    "collapsed": false
   },
   "outputs": [
    {
     "name": "stdout",
     "output_type": "stream",
     "text": [
      "% start S\n",
      "# ###################\n",
      "# Grammar Productions\n",
      "# ###################\n",
      "S[-INV] -> NP VP\n",
      "S[-INV]/?x -> NP VP/?x\n",
      "S[-INV] -> NP S/NP\n",
      "S[-INV] -> Adv[+NEG] S[+INV]\n",
      "S[+INV] -> V[+AUX] NP VP\n",
      "S[+INV]/?x -> V[+AUX] NP VP/?x\n",
      "SBar -> Comp S[-INV]\n",
      "SBar/?x -> Comp S[-INV]/?x\n",
      "VP -> V[SUBCAT=intrans, -AUX]\n",
      "VP -> V[SUBCAT=trans, -AUX] NP\n",
      "VP/?x -> V[SUBCAT=trans, -AUX] NP/?x\n",
      "VP -> V[SUBCAT=clause, -AUX] SBar\n",
      "VP/?x -> V[SUBCAT=clause, -AUX] SBar/?x\n",
      "VP -> V[+AUX] VP\n",
      "VP/?x -> V[+AUX] VP/?x\n",
      "# ###################\n",
      "# Lexical Productions\n",
      "# ###################\n",
      "V[SUBCAT=intrans, -AUX] -> 'walk' | 'sing'\n",
      "V[SUBCAT=trans, -AUX] -> 'see' | 'like'\n",
      "V[SUBCAT=clause, -AUX] -> 'say' | 'claim'\n",
      "V[+AUX] -> 'do' | 'can'\n",
      "NP[-WH] -> 'you' | 'cats'\n",
      "NP[+WH] -> 'who'\n",
      "Adv[+NEG] -> 'rarely' | 'never'\n",
      "NP/NP ->\n",
      "Comp -> 'that'\n"
     ]
    }
   ],
   "source": [
    "nltk.data.show_cfg('grammars/book_grammars/feat1.fcfg')"
   ]
  },
  {
   "cell_type": "markdown",
   "metadata": {},
   "source": [
    "The grammar in 9.4 contains one \"gap-introduction\" production, namely S[-INV] -> NP S/NP. In order to percolate the slash feature correctly, we need to add slashes with variable values to both sides of the arrow in productions that expand S, VP and NP. For example, VP/?x -> V SBar/?x is the slashed version of VP -> V SBar and says that a slash value can be specified on the VP parent of a constituent if the same value is also specified on the SBar child. Finally, NP/NP -> allows the slash information on NP to be discharged as the empty string. Using 9.4, we can parse the sequence who do you claim that you like"
   ]
  },
  {
   "cell_type": "code",
   "execution_count": 13,
   "metadata": {
    "collapsed": false
   },
   "outputs": [
    {
     "name": "stdout",
     "output_type": "stream",
     "text": [
      "(S[-INV]\n",
      "  (NP[+WH] who)\n",
      "  (S[+INV]/NP[]\n",
      "    (V[+AUX] do)\n",
      "    (NP[-WH] you)\n",
      "    (VP[]/NP[]\n",
      "      (V[-AUX, SUBCAT='clause'] claim)\n",
      "      (SBar[]/NP[]\n",
      "        (Comp[] that)\n",
      "        (S[-INV]/NP[]\n",
      "          (NP[-WH] you)\n",
      "          (VP[]/NP[] (V[-AUX, SUBCAT='trans'] like) (NP[]/NP[] )))))))\n"
     ]
    }
   ],
   "source": [
    "tokens = 'who do you claim that you like'.split()\n",
    "from nltk import load_parser\n",
    "cp = load_parser('grammars/book_grammars/feat1.fcfg')\n",
    "for tree in cp.parse(tokens):\n",
    "    print tree"
   ]
  },
  {
   "cell_type": "markdown",
   "metadata": {},
   "source": [
    "The grammar in 9.4 will also allow us to parse sentences without gaps:"
   ]
  },
  {
   "cell_type": "code",
   "execution_count": 14,
   "metadata": {
    "collapsed": false
   },
   "outputs": [
    {
     "name": "stdout",
     "output_type": "stream",
     "text": [
      "(S[-INV]\n",
      "  (NP[-WH] you)\n",
      "  (VP[]\n",
      "    (V[-AUX, SUBCAT='clause'] claim)\n",
      "    (SBar[]\n",
      "      (Comp[] that)\n",
      "      (S[-INV]\n",
      "        (NP[-WH] you)\n",
      "        (VP[] (V[-AUX, SUBCAT='trans'] like) (NP[-WH] cats))))))\n"
     ]
    }
   ],
   "source": [
    "tokens = 'you claim that you like cats'.split()\n",
    "for tree in cp.parse(tokens):\n",
    "    print tree"
   ]
  },
  {
   "cell_type": "markdown",
   "metadata": {},
   "source": [
    "In addition, it admits inverted sentences which do not involve wh constructions:"
   ]
  },
  {
   "cell_type": "code",
   "execution_count": 15,
   "metadata": {
    "collapsed": false
   },
   "outputs": [
    {
     "name": "stdout",
     "output_type": "stream",
     "text": [
      "(S[-INV]\n",
      "  (Adv[+NEG] rarely)\n",
      "  (S[+INV]\n",
      "    (V[+AUX] do)\n",
      "    (NP[-WH] you)\n",
      "    (VP[] (V[-AUX, SUBCAT='intrans'] sing))))\n"
     ]
    }
   ],
   "source": [
    "tokens = 'rarely do you sing'.split()\n",
    "for tree in cp.parse(tokens):\n",
    "    print tree"
   ]
  },
  {
   "cell_type": "markdown",
   "metadata": {},
   "source": [
    "## 9.4   Summary\n",
    "\n",
    "* The traditional categories of context-free grammar are atomic symbols. An important motivation for feature structures is to capture fine-grained distinctions that would otherwise require a massive multiplication of atomic categories.\n",
    "* By using variables over feature values, we can express constraints in grammar productions that allow the realization of different feature specifications to be inter-dependent.\n",
    "* Typically we specify fixed values of features at the lexical level and constrain the values of features in phrases to unify with the corresponding values in their children.\n",
    "* Feature values are either atomic or complex. A particular sub-case of atomic value is the Boolean value, represented by convention as [+/- f].\n",
    "* Two features can share a value (either atomic or complex). Structures with shared values are said to be re-entrant. Shared values are represented by numerical indexes (or tags) in AVMs.\n",
    "* A path in a feature structure is a tuple of features corresponding to the labels on a sequence of arcs from the root of the graph representation.\n",
    "* Two paths are equivalent if they share a value.\n",
    "* Feature structures are partially ordered by subsumption. FS0 subsumes FS1 when FS0 is more general (less informative) than FS1.\n",
    "* The unification of two structures FS0 and FS1, if successful, is the feature structure FS2 that contains the combined information of both FS0 and FS1.\n",
    "* If unification specializes a path π in FS, then it also specializes every path π' equivalent to π.\n",
    "* We can use feature structures to build succinct analyses of a wide variety of linguistic phenomena, including verb subcategorization, inversion constructions, unbounded dependency constructions and case government."
   ]
  },
  {
   "cell_type": "code",
   "execution_count": null,
   "metadata": {
    "collapsed": true
   },
   "outputs": [],
   "source": []
  }
 ],
 "metadata": {
  "anaconda-cloud": {},
  "kernelspec": {
   "display_name": "Python [conda root]",
   "language": "python",
   "name": "conda-root-py"
  },
  "language_info": {
   "codemirror_mode": {
    "name": "ipython",
    "version": 2
   },
   "file_extension": ".py",
   "mimetype": "text/x-python",
   "name": "python",
   "nbconvert_exporter": "python",
   "pygments_lexer": "ipython2",
   "version": "2.7.12"
  }
 },
 "nbformat": 4,
 "nbformat_minor": 1
}
