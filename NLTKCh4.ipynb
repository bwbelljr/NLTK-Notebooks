{
 "cells": [
  {
   "cell_type": "code",
   "execution_count": 1,
   "metadata": {
    "collapsed": false
   },
   "outputs": [],
   "source": [
    "# Important: From this chapter onwards, our program samples will assume you begin your interactive session or your program with the \n",
    "# following import statements:\n",
    "\n",
    "from __future__ import division  # Python 2 users only\n",
    "import nltk, re, pprint\n",
    "from nltk import word_tokenize\n",
    "from __future__ import print_function"
   ]
  },
  {
   "cell_type": "code",
   "execution_count": 2,
   "metadata": {
    "collapsed": false
   },
   "outputs": [],
   "source": [
    "# 4   Writing Structured Programs\n",
    "\n",
    "# By now you will have a sense of the capabilities of the Python programming language for processing natural language. However, if \n",
    "# you're new to Python or to programming, you may still be wrestling with Python and not feel like you are in full control yet. \n",
    "# In this chapter we'll address the following questions:\n",
    "\n",
    "#    How can you write well-structured, readable programs that you and others will be able to re-use easily?\n",
    "#    How do the fundamental building blocks work, such as loops, functions and assignment?\n",
    "#    What are some of the pitfalls with Python programming and how can you avoid them?\n",
    "\n",
    "# Along the way, you will consolidate your knowledge of fundamental programming constructs, learn more about using features of the \n",
    "# Python language in a natural and concise way, and learn some useful techniques in visualizing natural language data. As before, \n",
    "# this chapter contains many examples and exercises (and as before, some exercises introduce new material). Readers new to \n",
    "# programming should work through them carefully and consult other introductions to programming if necessary; experienced programmers\n",
    "# can quickly skim this chapter.\n",
    "\n",
    "# In the other chapters of this book, we have organized the programming concepts as dictated by the needs of NLP. Here we revert \n",
    "# to a more conventional approach where the material is more closely tied to the structure of the programming language. There's not \n",
    "# room for a complete presentation of the language, so we'll just focus on the language constructs and idioms that are most \n",
    "# important for NLP."
   ]
  },
  {
   "cell_type": "markdown",
   "metadata": {},
   "source": [
    "# 4.1   Back to the Basics"
   ]
  },
  {
   "cell_type": "code",
   "execution_count": 3,
   "metadata": {
    "collapsed": false
   },
   "outputs": [
    {
     "data": {
      "text/plain": [
       "'Monty'"
      ]
     },
     "execution_count": 3,
     "metadata": {},
     "output_type": "execute_result"
    }
   ],
   "source": [
    "# Assignment\n",
    "\n",
    "# Assignment would seem to be the most elementary programming concept, not deserving a separate discussion. However, there are some \n",
    "# surprising subtleties here. Consider the following code fragment:\n",
    "\n",
    "foo = 'Monty'  # foo points to some memory space with 'Monty'\n",
    "bar = foo      # bar points to the same memory space 'Monty' \n",
    "foo = 'Python' # foo points to another memory space with 'Python'\n",
    "bar            # bar STILL points to memory space with 'Monty' "
   ]
  },
  {
   "cell_type": "code",
   "execution_count": 4,
   "metadata": {
    "collapsed": false
   },
   "outputs": [
    {
     "data": {
      "text/plain": [
       "['Monty', 'Bodkin']"
      ]
     },
     "execution_count": 4,
     "metadata": {},
     "output_type": "execute_result"
    }
   ],
   "source": [
    "# This behaves exactly as expected. When we write bar = foo in the above code [1], the value of foo (the string 'Monty') is assigned \n",
    "# to bar. That is, bar is a copy of foo, so when we overwrite foo with a new string 'Python' on line [2], the value of bar is not \n",
    "# affected.\n",
    "\n",
    "# However, assignment statements do not always involve making copies in this way. Assignment always copies the value of an \n",
    "# expression, but a value is not always what you might expect it to be. In particular, the \"value\" of a structured object such as \n",
    "# a list is actually just a reference to the object. In the following example, [1] assigns the reference of foo to the new variable \n",
    "# bar. Now when we modify something inside foo on line [2], we can see that the contents of bar have also been changed.\n",
    "\n",
    "foo = ['Monty', 'Python'] # foo points to a list ['Monty', 'Python']\n",
    "bar = foo # bar points to this same list\n",
    "foo[1] = 'Bodkin' # Second element of the list is changed to 'Bodkin'\n",
    "bar # Since bar points to this same list, the change is reflected"
   ]
  },
  {
   "cell_type": "code",
   "execution_count": 5,
   "metadata": {
    "collapsed": false
   },
   "outputs": [],
   "source": [
    "# The line bar = foo [1] does not copy the contents of the variable, only its \"object reference\". To understand what is going on \n",
    "# here, we need to know how lists are stored in the computer's memory. In 4.1, we see that a list foo is a reference to an object \n",
    "# stored at location 3133 (which is itself a series of pointers to other locations holding strings). When we assign bar = foo, it \n",
    "# is just the object reference 3133 that gets copied. This behavior extends to other aspects of the language, such as parameter \n",
    "# passing (4.4).\n",
    "\n",
    "# Let's experiment some more, by creating a variable empty holding the empty list, then using it three times on the next line."
   ]
  },
  {
   "cell_type": "code",
   "execution_count": 6,
   "metadata": {
    "collapsed": false
   },
   "outputs": [
    {
     "data": {
      "text/plain": [
       "[[], [], []]"
      ]
     },
     "execution_count": 6,
     "metadata": {},
     "output_type": "execute_result"
    }
   ],
   "source": [
    "empty = []\n",
    "nested = [empty, empty, empty]\n",
    "nested"
   ]
  },
  {
   "cell_type": "code",
   "execution_count": 8,
   "metadata": {
    "collapsed": false
   },
   "outputs": [
    {
     "data": {
      "text/plain": [
       "[['Python', 'Python'], ['Python', 'Python'], ['Python', 'Python']]"
      ]
     },
     "execution_count": 8,
     "metadata": {},
     "output_type": "execute_result"
    }
   ],
   "source": [
    "nested[1].append('Python')\n",
    "nested\n",
    "\n",
    "# I don't presently understand this example! 8/29/2015 @ 8:17pm\n",
    "# I still don't understand this example 29 April 2017 @ 8:05pm"
   ]
  },
  {
   "cell_type": "code",
   "execution_count": 9,
   "metadata": {
    "collapsed": false
   },
   "outputs": [],
   "source": [
    "# Observe that changing one of the items inside our nested list of lists changed them all. This is because each of the three \n",
    "# elements is actually just a reference to one and the same list in memory."
   ]
  },
  {
   "cell_type": "code",
   "execution_count": 10,
   "metadata": {
    "collapsed": false
   },
   "outputs": [
    {
     "data": {
      "text/plain": [
       "[['Python'], ['Monty'], ['Python']]"
      ]
     },
     "execution_count": 10,
     "metadata": {},
     "output_type": "execute_result"
    }
   ],
   "source": [
    "# Now, notice that when we assign a new value to one of the elements of the list, it does not propagate to the others:\n",
    "\n",
    "nested = [[]] * 3\n",
    "nested[1].append('Python')\n",
    "nested[1] = ['Monty']\n",
    "nested"
   ]
  },
  {
   "cell_type": "code",
   "execution_count": 11,
   "metadata": {
    "collapsed": false
   },
   "outputs": [],
   "source": [
    "# We began with a list containing three references to a single empty list object. Then we modified that object by appending \n",
    "# 'Python' to it, resulting in a list containing three references to a single list object ['Python']. Next, we overwrote one of \n",
    "# those references with a reference to a new object ['Monty']. This last step modified one of the three object references inside \n",
    "# the nested list. However, the ['Python'] object wasn't changed, and is still referenced from two places in our nested list of lists. \n",
    "# It is crucial to appreciate this difference between modifying an object via an object reference, and overwriting an object \n",
    "# reference.\n",
    "\n",
    "# Note\n",
    "\n",
    "# Important: To copy the items from a list foo to a new list bar, you can write bar = foo[:]. This copies the object references \n",
    "# inside the list. To copy a structure without copying any object references, use copy.deepcopy()."
   ]
  },
  {
   "cell_type": "code",
   "execution_count": 12,
   "metadata": {
    "collapsed": false
   },
   "outputs": [
    {
     "data": {
      "text/plain": [
       "True"
      ]
     },
     "execution_count": 12,
     "metadata": {},
     "output_type": "execute_result"
    }
   ],
   "source": [
    "# Equality\n",
    "\n",
    "# Python provides two ways to check that a pair of items are the same. The is operator tests for object identity. We can use it to \n",
    "# verify our earlier observations about objects. First we create a list containing several copies of the same object, and demonstrate \n",
    "# that they are not only identical according to ==, but also that they are one and the same object:\n",
    "\n",
    "size = 5\n",
    "python = ['Python']\n",
    "snake_nest = [python] * size\n",
    "snake_nest[0] == snake_nest[1] == snake_nest[2] == snake_nest[3] == snake_nest[4]"
   ]
  },
  {
   "cell_type": "code",
   "execution_count": 13,
   "metadata": {
    "collapsed": false
   },
   "outputs": [
    {
     "data": {
      "text/plain": [
       "True"
      ]
     },
     "execution_count": 13,
     "metadata": {},
     "output_type": "execute_result"
    }
   ],
   "source": [
    "snake_nest[0] is snake_nest[1] is snake_nest[2] is snake_nest[3] is snake_nest[4]"
   ]
  },
  {
   "cell_type": "code",
   "execution_count": 14,
   "metadata": {
    "collapsed": false
   },
   "outputs": [
    {
     "name": "stdout",
     "output_type": "stream",
     "text": [
      "4\n"
     ]
    },
    {
     "data": {
      "text/plain": [
       "[['Python'], ['Python'], ['Python'], ['Python'], ['Python']]"
      ]
     },
     "execution_count": 14,
     "metadata": {},
     "output_type": "execute_result"
    }
   ],
   "source": [
    "# Now let's put a new python in this nest. We can easily show that the objects are not all identical:\n",
    "\n",
    "import random\n",
    "position = random.choice(range(size))\n",
    "print (position)\n",
    "snake_nest[position] = ['Python']\n",
    "snake_nest"
   ]
  },
  {
   "cell_type": "code",
   "execution_count": 15,
   "metadata": {
    "collapsed": false
   },
   "outputs": [
    {
     "data": {
      "text/plain": [
       "True"
      ]
     },
     "execution_count": 15,
     "metadata": {},
     "output_type": "execute_result"
    }
   ],
   "source": [
    "snake_nest[0] == snake_nest[1] == snake_nest[2] == snake_nest[3] == snake_nest[4]"
   ]
  },
  {
   "cell_type": "code",
   "execution_count": 16,
   "metadata": {
    "collapsed": false
   },
   "outputs": [
    {
     "data": {
      "text/plain": [
       "False"
      ]
     },
     "execution_count": 16,
     "metadata": {},
     "output_type": "execute_result"
    }
   ],
   "source": [
    "snake_nest[0] is snake_nest[1] is snake_nest[2] is snake_nest[3] is snake_nest[4]"
   ]
  },
  {
   "cell_type": "code",
   "execution_count": 18,
   "metadata": {
    "collapsed": false
   },
   "outputs": [
    {
     "data": {
      "text/plain": [
       "[154562440L, 154562440L, 154562440L, 154562440L, 154584840L]"
      ]
     },
     "execution_count": 18,
     "metadata": {},
     "output_type": "execute_result"
    }
   ],
   "source": [
    "# You can do several pairwise tests to discover which position contains the interloper, but the id() function makes detection easier:\n",
    "\n",
    "[id(snake) for snake in snake_nest]\n",
    "\n",
    "# This reveals that the second item of the list has a distinct identifier. If you try running this code snippet yourself, expect \n",
    "# to see different numbers in the resulting list, and also the interloper may be in a different position.\n",
    "\n",
    "# Having two kinds of equality might seem strange. However, it's really just the type-token distinction, familiar from natural \n",
    "# language, here showing up in a programming language.\n",
    "\n",
    "# I don't get the point of this."
   ]
  },
  {
   "cell_type": "code",
   "execution_count": 20,
   "metadata": {
    "collapsed": false
   },
   "outputs": [
    {
     "name": "stdout",
     "output_type": "stream",
     "text": [
      "cat\n",
      "['dog']\n"
     ]
    }
   ],
   "source": [
    "# Conditionals\n",
    "\n",
    "# In the condition part of an if statement, a nonempty string or list is evaluated as true, while an empty string or list evaluates \n",
    "# as false.\n",
    "\n",
    "mixed = ['cat', '', ['dog'], []]\n",
    "for element in mixed:\n",
    "    if element:\n",
    "        print(element)"
   ]
  },
  {
   "cell_type": "code",
   "execution_count": 21,
   "metadata": {
    "collapsed": false
   },
   "outputs": [
    {
     "name": "stdout",
     "output_type": "stream",
     "text": [
      "1\n"
     ]
    }
   ],
   "source": [
    "# That is, we don't need to say if len(element) > 0: in the condition.\n",
    "\n",
    "# What's the difference between using if...elif as opposed to using a couple of if statements in a row? Well, consider the following \n",
    "# situation:\n",
    "\n",
    "animals = ['cat', 'dog']\n",
    "if 'cat' in animals:\n",
    "    print(1)\n",
    "elif 'dog' in animals:\n",
    "    print(2)"
   ]
  },
  {
   "cell_type": "code",
   "execution_count": 22,
   "metadata": {
    "collapsed": false
   },
   "outputs": [],
   "source": [
    "# Since the if clause of the statement is satisfied, Python never tries to evaluate the elif clause, so we never get to print out \n",
    "# 2. By contrast, if we replaced the elif by an if, then we would print out both 1 and 2. So an elif clause potentially gives us more \n",
    "# information than a bare if clause; when it evaluates to true, it tells us not only that the condition is satisfied, but also that \n",
    "# the condition of the main if clause was not satisfied."
   ]
  },
  {
   "cell_type": "code",
   "execution_count": 23,
   "metadata": {
    "collapsed": false
   },
   "outputs": [
    {
     "data": {
      "text/plain": [
       "False"
      ]
     },
     "execution_count": 23,
     "metadata": {},
     "output_type": "execute_result"
    }
   ],
   "source": [
    "# The functions all() and any() can be applied to a list (or other sequence) to check whether all or any items meet some condition:\n",
    "\n",
    "sent = ['No', 'good', 'fish', 'goes', 'anywhere', 'without', 'a', 'porpoise', '.']\n",
    "all(len(w) > 4 for w in sent)"
   ]
  },
  {
   "cell_type": "code",
   "execution_count": 24,
   "metadata": {
    "collapsed": false
   },
   "outputs": [
    {
     "data": {
      "text/plain": [
       "True"
      ]
     },
     "execution_count": 24,
     "metadata": {},
     "output_type": "execute_result"
    }
   ],
   "source": [
    "any(len(w) > 4 for w in sent)"
   ]
  },
  {
   "cell_type": "markdown",
   "metadata": {},
   "source": [
    "# 4.2   Sequences"
   ]
  },
  {
   "cell_type": "code",
   "execution_count": 25,
   "metadata": {
    "collapsed": false
   },
   "outputs": [
    {
     "data": {
      "text/plain": [
       "('walk', 'fem', 3)"
      ]
     },
     "execution_count": 25,
     "metadata": {},
     "output_type": "execute_result"
    }
   ],
   "source": [
    "# So far, we have seen two kinds of sequence object: strings and lists. Another kind of sequence is called a tuple. Tuples are \n",
    "# formed with the comma operator [1], and typically enclosed using parentheses. We've actually seen them in the previous chapters, \n",
    "# and sometimes referred to them as \"pairs\", since there were always two members. However, tuples can have any number of members. \n",
    "# Like lists and strings, tuples can be indexed [2] and sliced [3], and have a length [4].\n",
    "\n",
    "# Let's define t as a 3-tuple\n",
    "t = 'walk', 'fem', 3\n",
    "t"
   ]
  },
  {
   "cell_type": "code",
   "execution_count": 26,
   "metadata": {
    "collapsed": false
   },
   "outputs": [
    {
     "data": {
      "text/plain": [
       "'walk'"
      ]
     },
     "execution_count": 26,
     "metadata": {},
     "output_type": "execute_result"
    }
   ],
   "source": [
    "# What is the first element of the tuple t?\n",
    "t[0]"
   ]
  },
  {
   "cell_type": "code",
   "execution_count": 27,
   "metadata": {
    "collapsed": false
   },
   "outputs": [
    {
     "data": {
      "text/plain": [
       "('fem', 3)"
      ]
     },
     "execution_count": 27,
     "metadata": {},
     "output_type": "execute_result"
    }
   ],
   "source": [
    "# Print out the 2nd through the end of the tuple's elements\n",
    "t[1:]"
   ]
  },
  {
   "cell_type": "code",
   "execution_count": 28,
   "metadata": {
    "collapsed": false
   },
   "outputs": [
    {
     "data": {
      "text/plain": [
       "3"
      ]
     },
     "execution_count": 28,
     "metadata": {},
     "output_type": "execute_result"
    }
   ],
   "source": [
    "# What is the length of the tuple t?\n",
    "len(t) "
   ]
  },
  {
   "cell_type": "code",
   "execution_count": 29,
   "metadata": {
    "collapsed": false
   },
   "outputs": [
    {
     "data": {
      "text/plain": [
       "('t', 'the', 'turned')"
      ]
     },
     "execution_count": 29,
     "metadata": {},
     "output_type": "execute_result"
    }
   ],
   "source": [
    "# Caution!\n",
    "\n",
    "# Tuples are constructed using the comma operator. Parentheses are a more general feature of Python syntax, designed for grouping. \n",
    "# A tuple containing the single element 'snark' is defined by adding a trailing comma, like this: \"'snark',\". The empty tuple is a \n",
    "# special case, and is defined using empty parentheses ().\n",
    "\n",
    "# Let's compare strings, lists and tuples directly, and do the indexing, slice, and length operation on each type:\n",
    "\n",
    "raw = 'I turned off the spectroroute' # string\n",
    "text = ['I', 'turned', 'off', 'the', 'spectroroute'] # list\n",
    "pair = (6, 'turned') # 2-tuple\n",
    "raw[2], text[3], pair[1] # second character of raw, 3rd element of list, and 1st element of tuple\n",
    "# note that the actual output is itself a tuple"
   ]
  },
  {
   "cell_type": "code",
   "execution_count": 30,
   "metadata": {
    "collapsed": false
   },
   "outputs": [
    {
     "data": {
      "text/plain": [
       "('ute', ['off', 'the', 'spectroroute'], (6, 'turned'))"
      ]
     },
     "execution_count": 30,
     "metadata": {},
     "output_type": "execute_result"
    }
   ],
   "source": [
    "raw[-3:], text[-3:], pair[-3:]\n",
    "# from 3rd to the last to the end of string\n",
    "# from 3rd to the last to the end of list\n",
    "# from 3rd to last to the end of tuple... Since we have 2-tuple, it only returns the 2 elements\n",
    "# note that the actual output is itself a tuple"
   ]
  },
  {
   "cell_type": "code",
   "execution_count": 31,
   "metadata": {
    "collapsed": false
   },
   "outputs": [
    {
     "data": {
      "text/plain": [
       "(29, 5, 2)"
      ]
     },
     "execution_count": 31,
     "metadata": {},
     "output_type": "execute_result"
    }
   ],
   "source": [
    "len(raw), len(text), len(pair)\n",
    "# length of raw string, length of text list, and length of 2-tuple pair"
   ]
  },
  {
   "cell_type": "code",
   "execution_count": 32,
   "metadata": {
    "collapsed": false
   },
   "outputs": [],
   "source": [
    "# Notice in this code sample that we computed multiple values on a single line, separated by commas. These comma-separated \n",
    "# expressions are actually just tuples — Python allows us to omit the parentheses around tuples if there is no ambiguity. When we \n",
    "# print a tuple, the parentheses are always displayed. By using tuples in this way, we are implicitly aggregating items together."
   ]
  },
  {
   "cell_type": "raw",
   "metadata": {},
   "source": [
    "Operating on Sequence Types\n",
    "\n",
    "We can iterate over the items in a sequence s in a variety of useful ways, as shown in 4.1.\n",
    "\n",
    "Table 4.1:\n",
    "\n",
    "Various ways to iterate over sequences\n",
    "\n",
    "Python Expression \t                Comment\n",
    "for item in s                       iterate over the items of s\n",
    "for item in sorted(s)               iterate over the items of s in order\n",
    "for item in set(s) \t                iterate over unique elements of s\n",
    "for item in reversed(s) \t        iterate over elements of s in reverse\n",
    "for item in set(s).difference(t) \titerate over elements of s not in t\n",
    "\n",
    "The sequence functions illustrated in 4.1 can be combined in various ways; for example, to get unique elements of s sorted in reverse, use reversed(sorted(set(s))). We can randomize the contents of a list s before iterating over them, using random.shuffle(s).\n",
    "\n",
    "We can convert between these sequence types. For example, tuple(s) converts any kind of sequence into a tuple, and list(s) converts any kind of sequence into a list. We can convert a list of strings to a single string using the join() function, e.g. ':'.join(words)."
   ]
  },
  {
   "cell_type": "code",
   "execution_count": 33,
   "metadata": {
    "collapsed": false
   },
   "outputs": [
    {
     "name": "stdout",
     "output_type": "stream",
     "text": [
      "1\n",
      "2\n",
      "3\n",
      "4\n",
      "5\n",
      "6\n",
      "7\n",
      "8\n",
      "9\n",
      "10\n"
     ]
    }
   ],
   "source": [
    "# Let's try these sequences\n",
    "s = [1,2,3,4,5,6,7,8,9,10]\n",
    "for item in s:\n",
    "    print (item)"
   ]
  },
  {
   "cell_type": "code",
   "execution_count": 34,
   "metadata": {
    "collapsed": false
   },
   "outputs": [
    {
     "name": "stdout",
     "output_type": "stream",
     "text": [
      "1\n",
      "2\n",
      "3\n",
      "4\n",
      "5\n",
      "6\n",
      "7\n",
      "8\n",
      "9\n",
      "10\n"
     ]
    }
   ],
   "source": [
    "s = [10,3,2,1,5,7,9,8,4,6]\n",
    "for item in sorted(s):\n",
    "    print (item)"
   ]
  },
  {
   "cell_type": "code",
   "execution_count": 35,
   "metadata": {
    "collapsed": false
   },
   "outputs": [
    {
     "name": "stdout",
     "output_type": "stream",
     "text": [
      "1\n",
      "2\n",
      "3\n",
      "4\n",
      "5\n",
      "6\n",
      "7\n",
      "8\n",
      "9\n",
      "10\n"
     ]
    }
   ],
   "source": [
    "s = [10,3,2,1,5,7,9,8,4,6,5,6,2,1,10,2,3]\n",
    "for item in set(s):\n",
    "    print (item)"
   ]
  },
  {
   "cell_type": "code",
   "execution_count": 36,
   "metadata": {
    "collapsed": false
   },
   "outputs": [
    {
     "name": "stdout",
     "output_type": "stream",
     "text": [
      "3\n",
      "2\n",
      "10\n",
      "1\n",
      "2\n",
      "6\n",
      "5\n",
      "6\n",
      "4\n",
      "8\n",
      "9\n",
      "7\n",
      "5\n",
      "1\n",
      "2\n",
      "3\n",
      "10\n"
     ]
    }
   ],
   "source": [
    "for item in reversed(s):\n",
    "    print (item)"
   ]
  },
  {
   "cell_type": "code",
   "execution_count": 37,
   "metadata": {
    "collapsed": false
   },
   "outputs": [
    {
     "name": "stdout",
     "output_type": "stream",
     "text": [
      "1\n",
      "6\n",
      "7\n",
      "8\n",
      "9\n",
      "10\n"
     ]
    }
   ],
   "source": [
    "t = [2,3,4,5]\n",
    "for item in set(s).difference(t):\n",
    "    print (item)"
   ]
  },
  {
   "cell_type": "code",
   "execution_count": 38,
   "metadata": {
    "collapsed": false
   },
   "outputs": [
    {
     "name": "stdout",
     "output_type": "stream",
     "text": [
      "['Red', 'lorry', ',', 'yellow', 'lorry', ',', 'red', 'lorry', ',', 'yellow', 'lorry', '.']\n"
     ]
    },
    {
     "data": {
      "text/plain": [
       "[',', '.', 'Red', 'lorry', 'red', 'yellow']"
      ]
     },
     "execution_count": 38,
     "metadata": {},
     "output_type": "execute_result"
    }
   ],
   "source": [
    "# Some other objects, such as a FreqDist, can be converted into a sequence (using list() or sorted()) and support iteration, e.g.\n",
    "\n",
    "raw = 'Red lorry, yellow lorry, red lorry, yellow lorry.'\n",
    "text = word_tokenize(raw)\n",
    "print (text)\n",
    "fdist = nltk.FreqDist(text)\n",
    "sorted(fdist)"
   ]
  },
  {
   "cell_type": "code",
   "execution_count": 39,
   "metadata": {
    "collapsed": false
   },
   "outputs": [
    {
     "name": "stdout",
     "output_type": "stream",
     "text": [
      ",: 3; yellow: 2; .: 1; Red: 1; lorry: 4; red: 1; "
     ]
    }
   ],
   "source": [
    "for key in fdist:\n",
    "    print(key + ':', fdist[key], end='; ')"
   ]
  },
  {
   "cell_type": "code",
   "execution_count": 40,
   "metadata": {
    "collapsed": false
   },
   "outputs": [
    {
     "data": {
      "text/plain": [
       "['I', 'turned', 'the', 'spectroroute', 'off']"
      ]
     },
     "execution_count": 40,
     "metadata": {},
     "output_type": "execute_result"
    }
   ],
   "source": [
    "# In the next example, we use tuples to re-arrange the contents of our list. (We can omit the parentheses because the comma has \n",
    "# higher precedence than assignment.)\n",
    "\n",
    "words = ['I', 'turned', 'off', 'the', 'spectroroute'] # define words as a list of words\n",
    "words[2], words[3], words[4] = words[3], words[4], words[2] # should be I turned the spectroroute off\n",
    "words"
   ]
  },
  {
   "cell_type": "code",
   "execution_count": 41,
   "metadata": {
    "collapsed": false
   },
   "outputs": [
    {
     "data": {
      "text/plain": [
       "['I', 'turned', 'spectroroute', 'off', 'the']"
      ]
     },
     "execution_count": 41,
     "metadata": {},
     "output_type": "execute_result"
    }
   ],
   "source": [
    "# This is an idiomatic and readable way to move items inside a list. It is equivalent to the following traditional way of doing \n",
    "# such tasks that does not use tuples (notice that this method needs a temporary variable tmp).\n",
    "\n",
    "tmp = words[2]\n",
    "words[2] = words[3]\n",
    "words[3] = words[4]\n",
    "words[4] = tmp\n",
    "words"
   ]
  },
  {
   "cell_type": "code",
   "execution_count": 42,
   "metadata": {
    "collapsed": false
   },
   "outputs": [
    {
     "data": {
      "text/plain": [
       "[('I', 'noun'),\n",
       " ('turned', 'verb'),\n",
       " ('off', 'prep'),\n",
       " ('the', 'det'),\n",
       " ('spectroroute', 'noun')]"
      ]
     },
     "execution_count": 42,
     "metadata": {},
     "output_type": "execute_result"
    }
   ],
   "source": [
    "# As we have seen, Python has sequence functions such as sorted() and reversed() that rearrange the items of a sequence. There are \n",
    "# also functions that modify the structure of a sequence and which can be handy for language processing. Thus, zip() takes the items \n",
    "# of two or more sequences and \"zips\" them together into a single list of tuples. Given a sequence s, enumerate(s) returns pairs \n",
    "# consisting of an index and the item at that index.\n",
    "\n",
    "words = ['I', 'turned', 'off', 'the', 'spectroroute']\n",
    "tags = ['noun', 'verb', 'prep', 'det', 'noun']\n",
    "zip(words, tags)"
   ]
  },
  {
   "cell_type": "code",
   "execution_count": 43,
   "metadata": {
    "collapsed": false
   },
   "outputs": [
    {
     "data": {
      "text/plain": [
       "[('I', 'noun'),\n",
       " ('turned', 'verb'),\n",
       " ('off', 'prep'),\n",
       " ('the', 'det'),\n",
       " ('spectroroute', 'noun')]"
      ]
     },
     "execution_count": 43,
     "metadata": {},
     "output_type": "execute_result"
    }
   ],
   "source": [
    "list(zip(words, tags))"
   ]
  },
  {
   "cell_type": "code",
   "execution_count": 44,
   "metadata": {
    "collapsed": false
   },
   "outputs": [
    {
     "data": {
      "text/plain": [
       "[(0, 'I'), (1, 'turned'), (2, 'off'), (3, 'the'), (4, 'spectroroute')]"
      ]
     },
     "execution_count": 44,
     "metadata": {},
     "output_type": "execute_result"
    }
   ],
   "source": [
    "list(enumerate(words))"
   ]
  },
  {
   "cell_type": "code",
   "execution_count": 45,
   "metadata": {
    "collapsed": false
   },
   "outputs": [
    {
     "data": {
      "text/plain": [
       "[(0, 'noun'), (1, 'verb'), (2, 'prep'), (3, 'det'), (4, 'noun')]"
      ]
     },
     "execution_count": 45,
     "metadata": {},
     "output_type": "execute_result"
    }
   ],
   "source": [
    "list(enumerate(tags))"
   ]
  },
  {
   "cell_type": "code",
   "execution_count": 46,
   "metadata": {
    "collapsed": false
   },
   "outputs": [
    {
     "data": {
      "text/plain": [
       "True"
      ]
     },
     "execution_count": 46,
     "metadata": {},
     "output_type": "execute_result"
    }
   ],
   "source": [
    "# For some NLP tasks it is necessary to cut up a sequence into two or more parts. For instance, we might want to \"train\" a system \n",
    "# on 90% of the data and test it on the remaining 10%. To do this we decide the location where we want to cut the data [1], then \n",
    "# cut the sequence at that location [2].\n",
    "\n",
    "text = nltk.corpus.nps_chat.words() # use chat words as text\n",
    "cut = int(0.9 * len(text)) # calculate 90% of length and assign it to nearest integer value\n",
    "training_data, test_data = text[:cut], text[cut:] # set training data to first 90% and test data to last 10%\n",
    "text == training_data + test_data # test that text is concatenation of training data and test data"
   ]
  },
  {
   "cell_type": "code",
   "execution_count": 47,
   "metadata": {
    "collapsed": false
   },
   "outputs": [
    {
     "data": {
      "text/plain": [
       "9.0"
      ]
     },
     "execution_count": 47,
     "metadata": {},
     "output_type": "execute_result"
    }
   ],
   "source": [
    "len(training_data) / len(test_data) # another test that length of training data is 90% of total data"
   ]
  },
  {
   "cell_type": "code",
   "execution_count": 48,
   "metadata": {
    "collapsed": false
   },
   "outputs": [
    {
     "data": {
      "text/plain": [
       "'I off the turned spectroroute'"
      ]
     },
     "execution_count": 48,
     "metadata": {},
     "output_type": "execute_result"
    }
   ],
   "source": [
    "# Combining Different Sequence Types\n",
    "\n",
    "# Let's combine our knowledge of these three sequence types, together with list comprehensions, to perform the task of sorting the \n",
    "# words in a string by their length.\n",
    "\n",
    "words = 'I turned off the spectroroute'.split() # Words is a list of words that are split by whitespace from this string\n",
    "\n",
    "wordlens = [(len(word), word) for word in words] # Create a list of tuples (length of word, word)\n",
    "# words lens should look like [(1, 'I'), (6, 'turned'), (3, 'off'), (3, 'the'), (12, 'spectroroute')]\n",
    "\n",
    "wordlens.sort() # sorts by first element (number) and then name\n",
    "\n",
    "' '.join(w for (_, w) in wordlens)"
   ]
  },
  {
   "cell_type": "code",
   "execution_count": 49,
   "metadata": {
    "collapsed": false
   },
   "outputs": [],
   "source": [
    "# Each of the above lines of code contains a significant feature. A simple string is actually an object with methods defined on it \n",
    "# such as split() [1]. We use a list comprehension to build a list of tuples [2], where each tuple consists of a number (the word \n",
    "# length) and the word, e.g. (3, 'the'). We use the sort() method [3] to sort the list in-place. Finally, we discard the length \n",
    "# information and join the words back into a single string [4]. (The underscore [4] is just a regular Python variable, but we can \n",
    "# use underscore by convention to indicate that we will not use its value.)"
   ]
  },
  {
   "cell_type": "code",
   "execution_count": 50,
   "metadata": {
    "collapsed": false
   },
   "outputs": [],
   "source": [
    "# We began by talking about the commonalities in these sequence types, but the above code illustrates important differences in their \n",
    "# roles. First, strings appear at the beginning and the end: this is typical in the context where our program is reading in some \n",
    "# text and producing output for us to read. Lists and tuples are used in the middle, but for different purposes. A list is typically \n",
    "# a sequence of objects all having the same type, of arbitrary length. We often use lists to hold sequences of words. In contrast, \n",
    "# a tuple is typically a collection of objects of different types, of fixed length. We often use a tuple to hold a record, a \n",
    "# collection of different fields relating to some entity. This distinction between the use of lists and tuples takes some getting \n",
    "# used to, so here is another example:\n",
    "\n",
    "lexicon = [\n",
    "    ('the', 'det', ['Di:', 'D@']),\n",
    "    ('off', 'prep', ['Qf', 'O:f'])\n",
    "]"
   ]
  },
  {
   "cell_type": "code",
   "execution_count": 51,
   "metadata": {
    "collapsed": false
   },
   "outputs": [],
   "source": [
    "# Here, a lexicon is represented as a list because it is a collection of objects of a single type — lexical entries — of no \n",
    "# predetermined length. An individual entry is represented as a tuple because it is a collection of objects with different \n",
    "# interpretations, such as the orthographic form, the part of speech, and the pronunciations (represented in the SAMPA \n",
    "# computer-readable phonetic alphabet http://www.phon.ucl.ac.uk/home/sampa/). Note that these pronunciations are stored using a \n",
    "# list. (Why?)"
   ]
  },
  {
   "cell_type": "code",
   "execution_count": 52,
   "metadata": {
    "collapsed": false
   },
   "outputs": [],
   "source": [
    "# Note\n",
    "\n",
    "# A good way to decide when to use tuples vs lists is to ask whether the interpretation of an item depends on its position. \n",
    "# For example, a tagged token combines two strings having different interpretation, and we choose to interpret the first item as \n",
    "# the token and the second item as the tag. Thus we use tuples like this: ('grail', 'noun'); a tuple of the form ('noun', 'grail') \n",
    "# would be nonsensical since it would be a word noun tagged grail. In contrast, the elements of a text are all tokens, and position \n",
    "# is not significant. Thus we use lists like this: ['venetian', 'blind']; a list of the form ['blind', 'venetian'] would be equally \n",
    "# valid. The linguistic meaning of the words might be different, but the interpretation of list items as tokens is unchanged."
   ]
  },
  {
   "cell_type": "code",
   "execution_count": 53,
   "metadata": {
    "collapsed": false
   },
   "outputs": [
    {
     "data": {
      "text/plain": [
       "[('turned', 'VBD', ['t3:nd', 't3`nd'])]"
      ]
     },
     "execution_count": 53,
     "metadata": {},
     "output_type": "execute_result"
    }
   ],
   "source": [
    "# The distinction between lists and tuples has been described in terms of usage. However, there is a more fundamental difference: \n",
    "# in Python, lists are mutable, while tuples are immutable. In other words, lists can be modified, while tuples cannot. Here are \n",
    "# some of the operations on lists that do in-place modification of the list.\n",
    "\n",
    "lexicon.sort()\n",
    "lexicon[1] = ('turned', 'VBD', ['t3:nd', 't3`nd'])\n",
    "del lexicon[0]\n",
    "lexicon"
   ]
  },
  {
   "cell_type": "code",
   "execution_count": 54,
   "metadata": {
    "collapsed": false
   },
   "outputs": [
    {
     "data": {
      "text/plain": [
       "['``',\n",
       " 'when',\n",
       " 'i',\n",
       " 'use',\n",
       " 'a',\n",
       " 'word',\n",
       " ',',\n",
       " \"''\",\n",
       " 'humpty',\n",
       " 'dumpty',\n",
       " 'said',\n",
       " 'in',\n",
       " 'rather',\n",
       " 'a',\n",
       " 'scornful',\n",
       " 'tone',\n",
       " ',',\n",
       " \"''\",\n",
       " 'it',\n",
       " 'means',\n",
       " 'just',\n",
       " 'what',\n",
       " 'i',\n",
       " 'choose',\n",
       " 'it',\n",
       " 'to',\n",
       " 'mean',\n",
       " '-',\n",
       " 'neither',\n",
       " 'more',\n",
       " 'nor',\n",
       " 'less',\n",
       " '.',\n",
       " \"''\"]"
      ]
     },
     "execution_count": 54,
     "metadata": {},
     "output_type": "execute_result"
    }
   ],
   "source": [
    "# Generator Expressions\n",
    "\n",
    "# We've been making heavy use of list comprehensions, for compact and readable processing of texts. Here's an example where \n",
    "# we tokenize and normalize a text:\n",
    "\n",
    "text = '''\"When I use a word,\" Humpty Dumpty said in rather a scornful tone,\n",
    "\"it means just what I choose it to mean - neither more nor less.\"'''\n",
    "[w.lower() for w in word_tokenize(text)]"
   ]
  },
  {
   "cell_type": "code",
   "execution_count": 57,
   "metadata": {
    "collapsed": false
   },
   "outputs": [
    {
     "data": {
      "text/plain": [
       "'word'"
      ]
     },
     "execution_count": 57,
     "metadata": {},
     "output_type": "execute_result"
    }
   ],
   "source": [
    "# Suppose we now want to process these words further. We can do this by inserting the above expression inside a call to some \n",
    "# other function [1], but Python allows us to omit the brackets [2].\n",
    "\n",
    "max([w.lower() for w in word_tokenize(text)]) # [1]\n",
    "# I don't presently understand max? 29 April 2017 @ 8:57pm"
   ]
  },
  {
   "cell_type": "code",
   "execution_count": 58,
   "metadata": {
    "collapsed": false
   },
   "outputs": [
    {
     "data": {
      "text/plain": [
       "'word'"
      ]
     },
     "execution_count": 58,
     "metadata": {},
     "output_type": "execute_result"
    }
   ],
   "source": [
    "max(w.lower() for w in word_tokenize(text)) # [2]"
   ]
  },
  {
   "cell_type": "code",
   "execution_count": 59,
   "metadata": {
    "collapsed": false
   },
   "outputs": [],
   "source": [
    "# The second line uses a generator expression. This is more than a notational convenience: in many language processing situations, \n",
    "# generator expressions will be more efficient. In [1], storage for the list object must be allocated before the value of max() \n",
    "# is computed. If the text is very large, this could be slow. In [2], the data is streamed to the calling function. Since the \n",
    "# calling function simply has to find the maximum value — the word which comes latest in lexicographic sort order — it can process \n",
    "# the stream of data without having to store anything more than the maximum value seen so far."
   ]
  },
  {
   "cell_type": "markdown",
   "metadata": {},
   "source": [
    "# 4.3   Questions of Style"
   ]
  },
  {
   "cell_type": "code",
   "execution_count": 61,
   "metadata": {
    "collapsed": false
   },
   "outputs": [],
   "source": [
    "# Programming is as much an art as a science. The undisputed \"bible\" of programming, a 2,500 page multi-volume work by Donald Knuth, \n",
    "# is called The Art of Computer Programming. Many books have been written on Literate Programming, recognizing that humans, not \n",
    "# just computers, must read and understand programs. Here we pick up on some issues of programming style that have important \n",
    "# ramifications for the readability of your code, including code layout, procedural vs declarative style, and the use of loop \n",
    "# variables.\n",
    "\n",
    "# Python Coding Style\n",
    "\n",
    "# When writing programs you make many subtle choices about names, spacing, comments, and so on. When you look at code written by \n",
    "# other people, needless differences in style make it harder to interpret the code. Therefore, the designers of the Python \n",
    "# language have published a style guide for Python code, available at http://www.python.org/dev/peps/pep-0008/. The underlying \n",
    "# value presented in the style guide is consistency, for the purpose of maximizing the readability of code. We briefly review \n",
    "# some of its key recommendations here, and refer readers to the full guide for detailed discussion with examples.\n",
    "\n",
    "# Code layout should use four spaces per indentation level. You should make sure that when you write Python code in a file, you \n",
    "# avoid tabs for indentation, since these can be misinterpreted by different text editors and the indentation can be messed up. \n",
    "# Lines should be less than 80 characters long; if necessary you can break a line inside parentheses, brackets, or braces, \n",
    "# because Python is able to detect that the line continues over to the next line. If you need to break a line outside \n",
    "# parentheses, brackets, or braces, you can often add extra parentheses, and you can always add a backslash at the end of the \n",
    "# line that is broken:\n",
    "\n",
    "syllables = 'my name is victory'\n",
    "\n",
    "if (len(syllables) > 4 and len(syllables[2]) == 3 and\n",
    "   syllables[2][2] in [aeiou] and syllables[2][3] == syllables[1][3]):\n",
    "    process(syllables)\n",
    "if len(syllables) > 4 and len(syllables[2]) == 3 and \\\n",
    "   syllables[2][2] in [aeiou] and syllables[2][3] == syllables[1][3]:\n",
    "    process(syllables)\n",
    "    \n",
    "# Note\n",
    "\n",
    "# Typing spaces instead of tabs soon becomes a chore. Many programming editors have built-in support for Python, and can \n",
    "# automatically indent code and highlight any syntax errors (including indentation errors). For a list of Python-aware editors, \n",
    "# please see http://wiki.python.org/moin/PythonEditors."
   ]
  },
  {
   "cell_type": "code",
   "execution_count": 62,
   "metadata": {
    "collapsed": false
   },
   "outputs": [
    {
     "data": {
      "text/plain": [
       "4.401545438271973"
      ]
     },
     "execution_count": 62,
     "metadata": {},
     "output_type": "execute_result"
    }
   ],
   "source": [
    "# Procedural vs Declarative Style\n",
    "\n",
    "# We have just seen how the same task can be performed in different ways, with implications for efficiency. Another factor \n",
    "# influencing program development is programming style. Consider the following program to compute the average length of words \n",
    "# in the Brown Corpus:\n",
    "\n",
    "tokens = nltk.corpus.brown.words(categories='news') #words from all news articles Brown corpus\n",
    "count = 0 # set count to 0\n",
    "total = 0 # set total to 0\n",
    "for token in tokens:\n",
    "    count += 1\n",
    "    total += len(token)\n",
    "total / count\n",
    "\n",
    "# In this program we use the variable count to keep track of the number of tokens seen, and total to store the combined length of \n",
    "# all words. This is a low-level style, not far removed from machine code, the primitive operations performed by the computer's CPU. \n",
    "# The two variables are just like a CPU's registers, accumulating values at many intermediate stages, values that are meaningless \n",
    "# until the end. We say that this program is written in a procedural style, dictating the machine operations step by step. "
   ]
  },
  {
   "cell_type": "code",
   "execution_count": 63,
   "metadata": {
    "collapsed": false
   },
   "outputs": [
    {
     "name": "stdout",
     "output_type": "stream",
     "text": [
      "4.40154543827\n"
     ]
    }
   ],
   "source": [
    "# Now consider the following program that computes the same thing:\n",
    "\n",
    "total = sum(len(t) for t in tokens)\n",
    "print(total / len(tokens))"
   ]
  },
  {
   "cell_type": "code",
   "execution_count": 66,
   "metadata": {
    "collapsed": false
   },
   "outputs": [
    {
     "ename": "KeyboardInterrupt",
     "evalue": "",
     "output_type": "error",
     "traceback": [
      "\u001b[0;31m---------------------------------------------------------------------------\u001b[0m",
      "\u001b[0;31mKeyboardInterrupt\u001b[0m                         Traceback (most recent call last)",
      "\u001b[0;32m<ipython-input-66-063ec0b1b69e>\u001b[0m in \u001b[0;36m<module>\u001b[0;34m()\u001b[0m\n\u001b[1;32m     10\u001b[0m \u001b[1;32mwhile\u001b[0m \u001b[0mi\u001b[0m \u001b[1;33m<\u001b[0m \u001b[0mlen\u001b[0m\u001b[1;33m(\u001b[0m\u001b[0mtokens\u001b[0m\u001b[1;33m)\u001b[0m\u001b[1;33m:\u001b[0m\u001b[1;33m\u001b[0m\u001b[0m\n\u001b[1;32m     11\u001b[0m     \u001b[0mj\u001b[0m \u001b[1;33m=\u001b[0m \u001b[1;36m0\u001b[0m\u001b[1;33m\u001b[0m\u001b[0m\n\u001b[0;32m---> 12\u001b[0;31m     \u001b[1;32mwhile\u001b[0m \u001b[0mj\u001b[0m \u001b[1;33m<\u001b[0m \u001b[0mlen\u001b[0m\u001b[1;33m(\u001b[0m\u001b[0mword_list\u001b[0m\u001b[1;33m)\u001b[0m \u001b[1;32mand\u001b[0m \u001b[0mword_list\u001b[0m\u001b[1;33m[\u001b[0m\u001b[0mj\u001b[0m\u001b[1;33m]\u001b[0m \u001b[1;33m<=\u001b[0m \u001b[0mtokens\u001b[0m\u001b[1;33m[\u001b[0m\u001b[0mi\u001b[0m\u001b[1;33m]\u001b[0m\u001b[1;33m:\u001b[0m\u001b[1;33m\u001b[0m\u001b[0m\n\u001b[0m\u001b[1;32m     13\u001b[0m         \u001b[0mj\u001b[0m \u001b[1;33m+=\u001b[0m \u001b[1;36m1\u001b[0m\u001b[1;33m\u001b[0m\u001b[0m\n\u001b[1;32m     14\u001b[0m     \u001b[1;32mif\u001b[0m \u001b[0mj\u001b[0m \u001b[1;33m==\u001b[0m \u001b[1;36m0\u001b[0m \u001b[1;32mor\u001b[0m \u001b[0mtokens\u001b[0m\u001b[1;33m[\u001b[0m\u001b[0mi\u001b[0m\u001b[1;33m]\u001b[0m \u001b[1;33m!=\u001b[0m \u001b[0mword_list\u001b[0m\u001b[1;33m[\u001b[0m\u001b[0mj\u001b[0m\u001b[1;33m-\u001b[0m\u001b[1;36m1\u001b[0m\u001b[1;33m]\u001b[0m\u001b[1;33m:\u001b[0m\u001b[1;33m\u001b[0m\u001b[0m\n",
      "\u001b[0;31mKeyboardInterrupt\u001b[0m: "
     ]
    }
   ],
   "source": [
    "# The first line uses a generator expression to sum the token lengths, while the second line computes the average as before. \n",
    "# Each line of code performs a complete, meaningful task, which can be understood in terms of high-level properties like: \"total \n",
    "# is the sum of the lengths of the tokens\". Implementation details are left to the Python interpreter. The second program uses a \n",
    "# built-in function, and constitutes programming at a more abstract level; the resulting code is more declarative. \n",
    "\n",
    "# Let's look at an extreme example:\n",
    "\n",
    "word_list = [] # word_list is nothing\n",
    "i = 0 # counter is 0\n",
    "while i < len(tokens):\n",
    "    j = 0\n",
    "    while j < len(word_list) and word_list[j] <= tokens[i]:\n",
    "        j += 1\n",
    "    if j == 0 or tokens[i] != word_list[j-1]:\n",
    "        word_list.insert(j, tokens[i])\n",
    "    i += 1"
   ]
  },
  {
   "cell_type": "code",
   "execution_count": 67,
   "metadata": {
    "collapsed": false
   },
   "outputs": [
    {
     "data": {
      "text/plain": [
       "[u'!',\n",
       " u'$1',\n",
       " u'$1,000',\n",
       " u'$1,000,000,000',\n",
       " u'$1,500',\n",
       " u'$1,500,000',\n",
       " u'$1,600',\n",
       " u'$1,800',\n",
       " u'$1.1',\n",
       " u'$1.4',\n",
       " u'$1.5',\n",
       " u'$1.80',\n",
       " u'$10',\n",
       " u'$10,000',\n",
       " u'$10,000-per-year',\n",
       " u'$100',\n",
       " u'$100,000',\n",
       " u'$102,285,000',\n",
       " u'$109',\n",
       " u'$11.50',\n",
       " u'$115,000',\n",
       " u'$12',\n",
       " u'$12,192,865',\n",
       " u'$12,500',\n",
       " u'$12.50',\n",
       " u'$12.7',\n",
       " u'$120',\n",
       " u'$125',\n",
       " u'$135',\n",
       " u'$139.3',\n",
       " u'$14',\n",
       " u'$15',\n",
       " u'$15,000',\n",
       " u'$15,000,000',\n",
       " u'$150',\n",
       " u'$157,460',\n",
       " u'$16',\n",
       " u'$16,000',\n",
       " u'$17',\n",
       " u'$17,000',\n",
       " u'$17.8',\n",
       " u'$172,000',\n",
       " u'$172,400',\n",
       " u'$18',\n",
       " u'$18.2',\n",
       " u'$18.9',\n",
       " u'$2',\n",
       " u'$2,000',\n",
       " u'$2,170',\n",
       " u'$2,330,000',\n",
       " u'$2,700',\n",
       " u'$2.50',\n",
       " u'$2.80',\n",
       " u'$20',\n",
       " u'$20,000',\n",
       " u'$20,447,000',\n",
       " u'$200,000',\n",
       " u'$214',\n",
       " u'$22',\n",
       " u'$22.50',\n",
       " u'$2400',\n",
       " u'$25',\n",
       " u'$25,000',\n",
       " u'$25-a-plate',\n",
       " u'$250',\n",
       " u'$250,000',\n",
       " u'$251',\n",
       " u'$253,355,000',\n",
       " u'$26,000,000',\n",
       " u'$278,877,000',\n",
       " u'$28',\n",
       " u'$28,700,000',\n",
       " u'$29,000',\n",
       " u'$3',\n",
       " u'$3,500',\n",
       " u'$3,675',\n",
       " u'$3.5',\n",
       " u'$30',\n",
       " u'$300',\n",
       " u'$300,000,000',\n",
       " u'$3100',\n",
       " u'$32,000',\n",
       " u'$325',\n",
       " u'$344,000',\n",
       " u'$37',\n",
       " u'$37,500',\n",
       " u'$39,000',\n",
       " u'$39.5',\n",
       " u'$4',\n",
       " u'$4,177.37',\n",
       " u'$4,500',\n",
       " u'$4,700',\n",
       " u'$4,800',\n",
       " u'$40',\n",
       " u'$40,000',\n",
       " u'$40,000,000',\n",
       " u'$400',\n",
       " u'$43,000',\n",
       " u'$45',\n",
       " u'$450',\n",
       " u'$451,500',\n",
       " u'$457,000',\n",
       " u'$46.7',\n",
       " u'$47,101,000',\n",
       " u'$5',\n",
       " u'$5,000',\n",
       " u'$5,000,000',\n",
       " u'$5.2',\n",
       " u'$50',\n",
       " u'$50,000',\n",
       " u'$500',\n",
       " u'$5000',\n",
       " u'$52,500',\n",
       " u'$55,000',\n",
       " u'$57,500',\n",
       " u'$58,918',\n",
       " u'$581,000',\n",
       " u'$6,100,000,000',\n",
       " u'$60',\n",
       " u'$600',\n",
       " u'$634,517,000',\n",
       " u'$639',\n",
       " u'$65',\n",
       " u'$66,000',\n",
       " u'$67,000',\n",
       " u'$7,082',\n",
       " u'$7,500,000',\n",
       " u'$7.20',\n",
       " u'$70',\n",
       " u'$700',\n",
       " u'$740,000',\n",
       " u'$75',\n",
       " u'$754',\n",
       " u'$77,389,000',\n",
       " u'$8',\n",
       " u'$8,250',\n",
       " u'$8,555',\n",
       " u'$8.50',\n",
       " u'$80',\n",
       " u'$80,738',\n",
       " u'$800',\n",
       " u'$840,000',\n",
       " u'$842,617',\n",
       " u'$85',\n",
       " u'$88,000',\n",
       " u'$9',\n",
       " u'$9,841,000',\n",
       " u'$90',\n",
       " u'$900',\n",
       " u'&',\n",
       " u\"'\",\n",
       " u\"''\",\n",
       " u\"'20's\",\n",
       " u\"'40's\",\n",
       " u\"'49\",\n",
       " u\"'51\",\n",
       " u\"'52\",\n",
       " u\"'55\",\n",
       " u\"'em\",\n",
       " u'(',\n",
       " u')',\n",
       " u',',\n",
       " u'--',\n",
       " u'.',\n",
       " u'0',\n",
       " u'1',\n",
       " u'1%',\n",
       " u'1,000',\n",
       " u'1,065',\n",
       " u'1,119',\n",
       " u'1,212,000',\n",
       " u'1,253',\n",
       " u'1,257,700',\n",
       " u'1,400',\n",
       " u'1,509',\n",
       " u'1,512',\n",
       " u'1,700',\n",
       " u'1-0',\n",
       " u'1-1/2',\n",
       " u'1-1/2-story',\n",
       " u'1-3',\n",
       " u'1-inch',\n",
       " u'1.09.3',\n",
       " u'1.10.1',\n",
       " u'1.10.4',\n",
       " u'1.10.8',\n",
       " u'1.23',\n",
       " u'1.24',\n",
       " u'1.5',\n",
       " u'1.58',\n",
       " u'10',\n",
       " u'10%',\n",
       " u'10,000',\n",
       " u'10,000,000',\n",
       " u'10-hour',\n",
       " u\"10-o'clock\",\n",
       " u'10-team',\n",
       " u'10-year',\n",
       " u'10-year-old',\n",
       " u'100',\n",
       " u'100%',\n",
       " u'100,000',\n",
       " u'100-yard',\n",
       " u'1000',\n",
       " u'101b',\n",
       " u'102',\n",
       " u'1020',\n",
       " u'1044',\n",
       " u'108',\n",
       " u'10:30',\n",
       " u'10:45',\n",
       " u'10:50',\n",
       " u'10th',\n",
       " u'11',\n",
       " u'11,744',\n",
       " u'11-18',\n",
       " u'11-3',\n",
       " u'11-5',\n",
       " u'11-7',\n",
       " u'11-month-old',\n",
       " u'11-year',\n",
       " u'11-year-old',\n",
       " u'110',\n",
       " u'111',\n",
       " u'114',\n",
       " u'116',\n",
       " u'11:30',\n",
       " u'12',\n",
       " u'12,000',\n",
       " u'12-17',\n",
       " u'12-month',\n",
       " u'12-year-old',\n",
       " u'120',\n",
       " u'1200',\n",
       " u'121',\n",
       " u'1213',\n",
       " u'1213-15',\n",
       " u'1215',\n",
       " u'124',\n",
       " u'125,000',\n",
       " u'126',\n",
       " u'127',\n",
       " u'129%',\n",
       " u'12:01',\n",
       " u'12:50',\n",
       " u'12th',\n",
       " u'13',\n",
       " u'13%',\n",
       " u'13-1/2',\n",
       " u'13-5',\n",
       " u'13-8',\n",
       " u'13.5',\n",
       " u'130',\n",
       " u'130-year',\n",
       " u'1311',\n",
       " u'132,000',\n",
       " u'133',\n",
       " u'135',\n",
       " u'13th',\n",
       " u'14',\n",
       " u'14%',\n",
       " u'14-power',\n",
       " u'14-term',\n",
       " u'14.2',\n",
       " u'1409',\n",
       " u'142',\n",
       " u'145',\n",
       " u'145-pound',\n",
       " u'149',\n",
       " u'14th',\n",
       " u'15',\n",
       " u'15,000',\n",
       " u'15-1',\n",
       " u'15-hit',\n",
       " u'15-year-old',\n",
       " u'150',\n",
       " u'150,000,000',\n",
       " u'1500',\n",
       " u'154',\n",
       " u'155-yarder',\n",
       " u'1565',\n",
       " u'158-pounder',\n",
       " u'15th',\n",
       " u'16',\n",
       " u'16,000',\n",
       " u'16-22',\n",
       " u'16-year-old',\n",
       " u'160',\n",
       " u'160,000',\n",
       " u'1600',\n",
       " u'162',\n",
       " u'162-game',\n",
       " u'1630',\n",
       " u'165-unit',\n",
       " u'1671',\n",
       " u'1688',\n",
       " u'169',\n",
       " u'16th',\n",
       " u'17',\n",
       " u'17,000',\n",
       " u'17-1/2-inch',\n",
       " u'173',\n",
       " u'1733',\n",
       " u'174',\n",
       " u'175',\n",
       " u'1776',\n",
       " u'1792',\n",
       " u'18',\n",
       " u'18,792',\n",
       " u'180',\n",
       " u'180-degrees',\n",
       " u\"1800's\",\n",
       " u'182',\n",
       " u'1825',\n",
       " u'1834',\n",
       " u'185,000',\n",
       " u'1851',\n",
       " u'1859',\n",
       " u'186',\n",
       " u'1865',\n",
       " u'187-mile',\n",
       " u'187.5',\n",
       " u'1885',\n",
       " u'1886',\n",
       " u'189',\n",
       " u'1891',\n",
       " u'1896',\n",
       " u'1899',\n",
       " u'18th',\n",
       " u'19',\n",
       " u'19,000',\n",
       " u'19-12',\n",
       " u'1900',\n",
       " u\"1900's\",\n",
       " u'1908',\n",
       " u'1910',\n",
       " u'1910-14',\n",
       " u'1912',\n",
       " u'1913',\n",
       " u'1914',\n",
       " u'1917',\n",
       " u'1919',\n",
       " u'1920',\n",
       " u'1920s',\n",
       " u'1921',\n",
       " u'1922',\n",
       " u'1923',\n",
       " u'1924',\n",
       " u'1925',\n",
       " u'1926',\n",
       " u'1927',\n",
       " u'1928',\n",
       " u'1930',\n",
       " u'1930s',\n",
       " u'1932',\n",
       " u'1933',\n",
       " u'1934',\n",
       " u'1935',\n",
       " u'1937',\n",
       " u'1938',\n",
       " u'1940',\n",
       " u'1940s',\n",
       " u'1942',\n",
       " u'1943',\n",
       " u'1944',\n",
       " u'1945',\n",
       " u'1946',\n",
       " u'1947',\n",
       " u'1947-49',\n",
       " u'1948',\n",
       " u'1949',\n",
       " u'195',\n",
       " u'1950',\n",
       " u'1950s',\n",
       " u'1951',\n",
       " u'1952',\n",
       " u'1953',\n",
       " u'1954',\n",
       " u'1955',\n",
       " u'1956',\n",
       " u'1957',\n",
       " u'1958',\n",
       " u'1958-60',\n",
       " u'1959',\n",
       " u'1959-60',\n",
       " u'1960',\n",
       " u\"1960's\",\n",
       " u'1960-61',\n",
       " u'1960s',\n",
       " u'1961',\n",
       " u'1961-62',\n",
       " u'1962',\n",
       " u'1963',\n",
       " u'1964',\n",
       " u'1965',\n",
       " u'1966',\n",
       " u'1970',\n",
       " u'1970s',\n",
       " u'1971',\n",
       " u'1976',\n",
       " u'198',\n",
       " u'1981',\n",
       " u'1986',\n",
       " u'1991',\n",
       " u'19th',\n",
       " u'1:35',\n",
       " u'1:48',\n",
       " u'2',\n",
       " u'2%',\n",
       " u'2,100',\n",
       " u'2,418',\n",
       " u'2,700,877',\n",
       " u'2,963',\n",
       " u'2-1/2',\n",
       " u'2-3/4',\n",
       " u'2-and-2',\n",
       " u'2-baser',\n",
       " u'2-hour-and-27-minute',\n",
       " u'2-inch',\n",
       " u'2-over-par',\n",
       " u'2-run',\n",
       " u'2-score-year',\n",
       " u'2.21.6',\n",
       " u'2.295%',\n",
       " u'2.325%',\n",
       " u'2.5%',\n",
       " u'20',\n",
       " u'20%',\n",
       " u'20,000',\n",
       " u'20-piece',\n",
       " u'200',\n",
       " u'205-pound',\n",
       " u'206',\n",
       " u'208-pound',\n",
       " u'21',\n",
       " u'21-2',\n",
       " u'21-9',\n",
       " u'21-year',\n",
       " u'21-year-old',\n",
       " u'210',\n",
       " u'2100',\n",
       " u'211',\n",
       " u'213',\n",
       " u'214',\n",
       " u'215',\n",
       " u'21st',\n",
       " u'22',\n",
       " u'22-12',\n",
       " u'22-acre',\n",
       " u'22-year-old',\n",
       " u'220-yard',\n",
       " u'22111',\n",
       " u'224-170',\n",
       " u'225,000',\n",
       " u'2269',\n",
       " u'2274',\n",
       " u'228-229',\n",
       " u'229',\n",
       " u'23',\n",
       " u'23-year-old',\n",
       " u'237%',\n",
       " u'23d',\n",
       " u'24',\n",
       " u'24-inch',\n",
       " u'24-year-old',\n",
       " u'240',\n",
       " u'242%',\n",
       " u'2433',\n",
       " u'24th',\n",
       " u'25',\n",
       " u'25%',\n",
       " u'25,000',\n",
       " u'25,000,000',\n",
       " u'25,000-man',\n",
       " u'25-foot',\n",
       " u'25-footer',\n",
       " u'25-minute',\n",
       " u'250',\n",
       " u'250-275',\n",
       " u'2544',\n",
       " u'255',\n",
       " u'25th',\n",
       " u'26',\n",
       " u'26-year-old',\n",
       " u'260-member',\n",
       " u'27',\n",
       " u'27-year-old',\n",
       " u'2705',\n",
       " u'271',\n",
       " u'273',\n",
       " u'2731',\n",
       " u'28',\n",
       " u'280',\n",
       " u'280-yard',\n",
       " u'2809',\n",
       " u'281',\n",
       " u'2825',\n",
       " u'28th',\n",
       " u'29',\n",
       " u'29-5',\n",
       " u'29th',\n",
       " u'2:30',\n",
       " u'2d',\n",
       " u'2nd',\n",
       " u'3',\n",
       " u'3,000',\n",
       " u'3,325',\n",
       " u'3,399',\n",
       " u'3-0',\n",
       " u'3-10',\n",
       " u'3-5',\n",
       " u'3-game',\n",
       " u'3-hitter',\n",
       " u'3-inch',\n",
       " u'3-month',\n",
       " u'3-run',\n",
       " u'3-to-3',\n",
       " u'3-to-o',\n",
       " u'3-year-old',\n",
       " u'3.1',\n",
       " u'3.25',\n",
       " u'3.28',\n",
       " u'3.98',\n",
       " u'30',\n",
       " u'30,000',\n",
       " u'30,000,000',\n",
       " u'30-30',\n",
       " u'300',\n",
       " u'300,000',\n",
       " u'300-450',\n",
       " u'30th',\n",
       " u'31',\n",
       " u'31730',\n",
       " u'3181',\n",
       " u'31978',\n",
       " u'31st',\n",
       " u'32,000',\n",
       " u'32,589',\n",
       " u'3211',\n",
       " u'3247',\n",
       " u'325',\n",
       " u'33',\n",
       " u'33-man',\n",
       " u'330',\n",
       " u'3300',\n",
       " u'33d',\n",
       " u'34',\n",
       " u'34.7',\n",
       " u'340-blast',\n",
       " u'34220',\n",
       " u'343',\n",
       " u'35',\n",
       " u'350',\n",
       " u'3505o',\n",
       " u'354',\n",
       " u'355',\n",
       " u'357',\n",
       " u'36',\n",
       " u'36-year-old',\n",
       " u'361',\n",
       " u'3646',\n",
       " u'36th',\n",
       " u'37',\n",
       " u'37,000',\n",
       " u'37,679',\n",
       " u'37-year-old',\n",
       " u'375',\n",
       " u'38',\n",
       " u'38-7',\n",
       " u'38-point',\n",
       " u'380-foot',\n",
       " u'39',\n",
       " u'390-foot',\n",
       " u'3:30',\n",
       " u'3:57',\n",
       " u'3rd',\n",
       " u'4',\n",
       " u'4,441',\n",
       " u'4,500',\n",
       " u'4-0',\n",
       " u'4-1/2%',\n",
       " u'4-13',\n",
       " u'4-7/8',\n",
       " u'4-H',\n",
       " u'4-for-5',\n",
       " u'4-homer',\n",
       " u'4-under-par',\n",
       " u'4-year',\n",
       " u'4-year-old',\n",
       " u'4.4',\n",
       " u'40',\n",
       " u'40%',\n",
       " u'40-year-old',\n",
       " u'400',\n",
       " u'400,000,000',\n",
       " u'402',\n",
       " u'41',\n",
       " u'41-8',\n",
       " u'415',\n",
       " u'42',\n",
       " u'420',\n",
       " u'42d',\n",
       " u'43',\n",
       " u'44',\n",
       " u'44-year-old',\n",
       " u'447',\n",
       " u'45',\n",
       " u'45-degree',\n",
       " u'450',\n",
       " u'46',\n",
       " u'469',\n",
       " u'46th',\n",
       " u'47',\n",
       " u'48',\n",
       " u'480',\n",
       " u'49',\n",
       " u'4911',\n",
       " u'49ers',\n",
       " u'4:05',\n",
       " u'4:18',\n",
       " u'4:30',\n",
       " u'4th',\n",
       " u'5',\n",
       " u'5%',\n",
       " u'5,000',\n",
       " u'5-1',\n",
       " u'5-3',\n",
       " u'5-4',\n",
       " u'5-5',\n",
       " u'5-day',\n",
       " u'5-game',\n",
       " u'5-run',\n",
       " u'5-to-2',\n",
       " u'5-to-3',\n",
       " u'5.1',\n",
       " u'50',\n",
       " u'50%',\n",
       " u'50,000,000',\n",
       " u'50-year-old',\n",
       " u'500',\n",
       " u'5000',\n",
       " u'508-yard',\n",
       " u'50th',\n",
       " u'51',\n",
       " u'511',\n",
       " u'5155',\n",
       " u'51st',\n",
       " u'52',\n",
       " u'52-year',\n",
       " u'52-year-old',\n",
       " u'520-acre',\n",
       " u'53-year-old',\n",
       " u'54',\n",
       " u'540',\n",
       " u'543',\n",
       " u'545-yard',\n",
       " u'55',\n",
       " u'553',\n",
       " u'56',\n",
       " u'56-yard',\n",
       " u'57',\n",
       " u'5777',\n",
       " u'58',\n",
       " u'5835',\n",
       " u'5847',\n",
       " u'58th',\n",
       " u'59',\n",
       " u'5:30',\n",
       " u'6',\n",
       " u'6,000',\n",
       " u'6-12',\n",
       " u'6-3',\n",
       " u'6-3-3',\n",
       " u'6-5',\n",
       " u'6-6',\n",
       " u'6-7',\n",
       " u'6-foot',\n",
       " u'6-foot-10',\n",
       " u'6-foot-3-inch',\n",
       " u'6-ounce',\n",
       " u'6.5',\n",
       " u'60',\n",
       " u'60,000',\n",
       " u'60-day',\n",
       " u'60-inch',\n",
       " u'600-yard',\n",
       " u'61',\n",
       " u'6124',\n",
       " u'61st',\n",
       " u'62',\n",
       " u'62-year-old',\n",
       " u'63',\n",
       " u'637',\n",
       " u'64',\n",
       " u'64-cent',\n",
       " u'645-acre',\n",
       " u'646',\n",
       " u'65',\n",
       " u'65%',\n",
       " u'65,000',\n",
       " u'66',\n",
       " u'67',\n",
       " u'67-year-old',\n",
       " u'675',\n",
       " u'676',\n",
       " u'677',\n",
       " u'68',\n",
       " u'687.87',\n",
       " u'69',\n",
       " u'6934',\n",
       " u'695',\n",
       " u'6:15',\n",
       " u'6th',\n",
       " u'7',\n",
       " u'7,000',\n",
       " u'7-6',\n",
       " u'7-9',\n",
       " u'7-day',\n",
       " u'7.19',\n",
       " u'7.5',\n",
       " u'70',\n",
       " u'70,000',\n",
       " u'700',\n",
       " u'7026',\n",
       " u'7034',\n",
       " u'704',\n",
       " u'707',\n",
       " u'71',\n",
       " u'72',\n",
       " u'72-hole',\n",
       " u'72nd',\n",
       " u'73',\n",
       " u'734',\n",
       " u'74',\n",
       " u'75',\n",
       " u'75-minute',\n",
       " u'750',\n",
       " u'7599',\n",
       " u'75th',\n",
       " u'76',\n",
       " u'767',\n",
       " u'77',\n",
       " u'770',\n",
       " u'798',\n",
       " u'7:30',\n",
       " u'7:45',\n",
       " u'7A',\n",
       " u'8',\n",
       " u'8%',\n",
       " u'8,000',\n",
       " u'8,280',\n",
       " u'8,293',\n",
       " u'8-4',\n",
       " u'8-year-old',\n",
       " u'80',\n",
       " u'800',\n",
       " u'81',\n",
       " u'823',\n",
       " u'83',\n",
       " u'85',\n",
       " u'85-piece',\n",
       " u'85-student',\n",
       " u'86',\n",
       " u'869',\n",
       " u'87',\n",
       " u'87-1/2',\n",
       " u'87-31',\n",
       " u'87th',\n",
       " u'88',\n",
       " u'8861',\n",
       " u'8:30',\n",
       " u'8th',\n",
       " u'9',\n",
       " u'9,273',\n",
       " u'9-6',\n",
       " u'9-7',\n",
       " u'90',\n",
       " u'90%',\n",
       " u'90-day',\n",
       " u'900',\n",
       " u'900,000',\n",
       " u'900-student',\n",
       " u'92',\n",
       " u'923,076',\n",
       " u'9230',\n",
       " u'93',\n",
       " u'9329',\n",
       " u'949',\n",
       " u'95',\n",
       " u'96',\n",
       " u'963',\n",
       " u'99',\n",
       " u'9:30',\n",
       " u'9:40',\n",
       " u'9th',\n",
       " u':',\n",
       " u';',\n",
       " u'?',\n",
       " u'A',\n",
       " u\"A's\",\n",
       " u'A.',\n",
       " u'A.A.U.',\n",
       " u\"A.A.U.'s\",\n",
       " u'A.M.',\n",
       " u'A135',\n",
       " u'ADC',\n",
       " u'AF',\n",
       " u'AFL-CIO',\n",
       " u'AID',\n",
       " u\"AID's\",\n",
       " u'AM',\n",
       " u'AP',\n",
       " u'ARF',\n",
       " u'ASDIC',\n",
       " u'Aaron',\n",
       " u'Abatuno',\n",
       " u'Abbey',\n",
       " u'Abe',\n",
       " u'Abel',\n",
       " u'Abell',\n",
       " u'Abner',\n",
       " u'Abolition',\n",
       " u'About',\n",
       " u'Above',\n",
       " u'Abra',\n",
       " u'Abraham',\n",
       " u'Academy',\n",
       " u'Accardo',\n",
       " u'Accepted',\n",
       " u'Accounting',\n",
       " u'Ace',\n",
       " u'Achaeans',\n",
       " u\"Achaeans'\",\n",
       " u'Achievement',\n",
       " u'Acres',\n",
       " u'Act',\n",
       " u'Acting',\n",
       " u'Action',\n",
       " u'Actor-Crooner',\n",
       " u'Actress',\n",
       " u'Actually',\n",
       " u'Adair',\n",
       " u\"Adair's\",\n",
       " u'Adam',\n",
       " u'Adams',\n",
       " u'Adamson',\n",
       " u'Adcock',\n",
       " u'Add',\n",
       " u'Adequate',\n",
       " u'Aderholds',\n",
       " u'Adjusted',\n",
       " u'Adlai',\n",
       " u'Administration',\n",
       " u\"Administration's\",\n",
       " u'Administrative',\n",
       " u'Administrator',\n",
       " u'Admitting',\n",
       " u'Adnan',\n",
       " u'Advance',\n",
       " u'Adventures',\n",
       " u'Advisors',\n",
       " u'Advisory',\n",
       " u'Aeronautics',\n",
       " u'Affaire',\n",
       " u'Affairs',\n",
       " u'Africa',\n",
       " u'African',\n",
       " u'Afro-Cuban',\n",
       " u'After',\n",
       " u'Afterward',\n",
       " u'Afterwards',\n",
       " u'Again',\n",
       " u'Agencies',\n",
       " u'Agency',\n",
       " u'Aggies',\n",
       " u'Agriculture',\n",
       " u'Ah',\n",
       " u'Aid',\n",
       " u'Aiding',\n",
       " u'Aiken',\n",
       " u'Aikin',\n",
       " u'Ainsley',\n",
       " u'Ainsworth',\n",
       " u'Air',\n",
       " u'Aircraft',\n",
       " u\"Airline's\",\n",
       " u'Airlines',\n",
       " u'Airport',\n",
       " u'Aj',\n",
       " u'Al',\n",
       " u\"Al's\",\n",
       " u'Ala.',\n",
       " u'Alabama',\n",
       " u'Alan',\n",
       " u'Alba',\n",
       " u'Albacore',\n",
       " u'Albany',\n",
       " u'Albert',\n",
       " u'Alden',\n",
       " u'Aldo',\n",
       " u'Alex',\n",
       " u'Alexander',\n",
       " u'Alexandria',\n",
       " u'Alfred',\n",
       " u'Alice',\n",
       " u'All',\n",
       " u'Alla',\n",
       " u'Allan',\n",
       " u'Allegretti',\n",
       " u'Allen',\n",
       " u'Alliance',\n",
       " u'Allied',\n",
       " u'Allies',\n",
       " u'Allison',\n",
       " u\"Allison's\",\n",
       " u'Almost',\n",
       " u'Along',\n",
       " u'Alpha',\n",
       " u'Alpharetta',\n",
       " u'Already',\n",
       " u'Also',\n",
       " u'Alsop',\n",
       " u'Altar',\n",
       " u'Althaus',\n",
       " u'Although',\n",
       " u'Alto',\n",
       " u'Alton',\n",
       " u'Alusik',\n",
       " u\"Alusik's\",\n",
       " u'Alva',\n",
       " u'Alvin',\n",
       " u'Always',\n",
       " u'Amateur',\n",
       " u'Ambassador',\n",
       " u'Ambassador-designate',\n",
       " u'Ambulances',\n",
       " u'America',\n",
       " u\"America's\",\n",
       " u'American',\n",
       " u'Americana',\n",
       " u'Americans',\n",
       " u'Among',\n",
       " u'An',\n",
       " u'Anaconda',\n",
       " u'Analysts',\n",
       " u'Anatole',\n",
       " u'Ancient',\n",
       " u'And',\n",
       " u'Anderlini',\n",
       " u'Anderson',\n",
       " u\"Anderson's\",\n",
       " u'Andover',\n",
       " u'Andrew',\n",
       " u'Andy',\n",
       " u'Angel',\n",
       " u'Angeles',\n",
       " u\"Angeles'\",\n",
       " u'Angelico',\n",
       " u'Angelo',\n",
       " u'Angels',\n",
       " u'Angola',\n",
       " u'Anita',\n",
       " u'Ankara',\n",
       " u'Ann',\n",
       " u'Anna',\n",
       " u'Annamorena',\n",
       " u'Annapolis',\n",
       " u'Anne',\n",
       " u\"Anne's\",\n",
       " u'Anniston',\n",
       " u'Anniversary',\n",
       " u'Another',\n",
       " u'Anson',\n",
       " u'Answer',\n",
       " u'Anthony',\n",
       " u'Anti-Communist',\n",
       " u'Anticipated',\n",
       " u'Antone',\n",
       " u'Antonio',\n",
       " u'Any',\n",
       " u'Anyone',\n",
       " u'Anywhere',\n",
       " u'Aparicio',\n",
       " u'Apart',\n",
       " u'Apartment',\n",
       " u'Apartments',\n",
       " u'App',\n",
       " u'Apparently',\n",
       " u'Appeal',\n",
       " u'Appeals',\n",
       " u'Appointment',\n",
       " u'Appropriately',\n",
       " u'Appropriations',\n",
       " u'April',\n",
       " u'April-June',\n",
       " u'Aquinas',\n",
       " u'Arab',\n",
       " u'Arata',\n",
       " u'Archives',\n",
       " u'Arden',\n",
       " ...]"
      ]
     },
     "execution_count": 67,
     "metadata": {},
     "output_type": "execute_result"
    }
   ],
   "source": [
    "# The equivalent declarative version uses familiar built-in functions, and its purpose is instantly recognizable:\n",
    "\n",
    "word_list = sorted(set(tokens))\n",
    "word_list"
   ]
  },
  {
   "cell_type": "code",
   "execution_count": 68,
   "metadata": {
    "collapsed": false
   },
   "outputs": [
    {
     "name": "stdout",
     "output_type": "stream",
     "text": [
      "  1   5.40% the\n",
      "  2  10.42% ,\n",
      "  3  14.67% .\n",
      "  4  17.78% of\n",
      "  5  20.19% and\n",
      "  6  22.40% to\n",
      "  7  24.29% a\n",
      "  8  25.97% in\n"
     ]
    }
   ],
   "source": [
    "# Another case where a loop variable seems to be necessary is for printing a counter with each line of output. Instead, we can use \n",
    "# enumerate(), which processes a sequence s and produces a tuple of the form (i, s[i]) for each item in s, starting with (0, s[0]). \n",
    "# Here we enumerate the key-value pairs of the frequency distribution, resulting in nested tuples (rank, (word, count)). We print \n",
    "# rank+1 so that the counting appears to start from 1, as required when producing a list of ranked items.\n",
    "\n",
    "fd = nltk.FreqDist(nltk.corpus.brown.words())\n",
    "cumulative = 0.0\n",
    "most_common_words = [word for (word, count) in fd.most_common()]\n",
    "for rank, word in enumerate(most_common_words):\n",
    "    cumulative += fd.freq(word)\n",
    "    print(\"%3d %6.2f%% %s\" % (rank + 1, cumulative * 100, word))\n",
    "    if cumulative > 0.25:\n",
    "        break"
   ]
  },
  {
   "cell_type": "code",
   "execution_count": 69,
   "metadata": {
    "collapsed": false
   },
   "outputs": [
    {
     "data": {
      "text/plain": [
       "u'unextinguishable'"
      ]
     },
     "execution_count": 69,
     "metadata": {},
     "output_type": "execute_result"
    }
   ],
   "source": [
    "# It's sometimes tempting to use loop variables to store a maximum or minimum value seen so far. Let's use this method to find the \n",
    "# longest word in a text.\n",
    "\n",
    "text = nltk.corpus.gutenberg.words('milton-paradise.txt')\n",
    "longest = ''\n",
    "for word in text:\n",
    "    if len(word) > len(longest):\n",
    "        longest = word\n",
    "longest"
   ]
  },
  {
   "cell_type": "code",
   "execution_count": 70,
   "metadata": {
    "collapsed": false
   },
   "outputs": [
    {
     "data": {
      "text/plain": [
       "[u'unextinguishable',\n",
       " u'transubstantiate',\n",
       " u'inextinguishable',\n",
       " u'incomprehensible']"
      ]
     },
     "execution_count": 70,
     "metadata": {},
     "output_type": "execute_result"
    }
   ],
   "source": [
    "# However, a more transparent solution uses two list comprehensions, both having forms that should be familiar by now:\n",
    "\n",
    "maxlen = max(len(word) for word in text)\n",
    "[word for word in text if len(word) == maxlen]\n",
    "\n",
    "# Note that our first solution found the first word having the longest length, while the second solution found all of the longest \n",
    "# words (which is usually what we would want). Although there's a theoretical efficiency difference between the two solutions, \n",
    "# the main overhead is reading the data into main memory; once it's there, a second pass through the data is effectively instantaneous. \n",
    "# We also need to balance our concerns about program efficiency with programmer efficiency. A fast but cryptic solution will be harder \n",
    "# to understand and maintain."
   ]
  },
  {
   "cell_type": "code",
   "execution_count": 71,
   "metadata": {
    "collapsed": false
   },
   "outputs": [
    {
     "data": {
      "text/plain": [
       "[['The', 'dog', 'gave'],\n",
       " ['dog', 'gave', 'John'],\n",
       " ['gave', 'John', 'the'],\n",
       " ['John', 'the', 'newspaper']]"
      ]
     },
     "execution_count": 71,
     "metadata": {},
     "output_type": "execute_result"
    }
   ],
   "source": [
    "# Some Legitimate Uses for Counters\n",
    "\n",
    "# There are cases where we still want to use loop variables in a list comprehension. For example, we need to use a loop variable \n",
    "# to extract successive overlapping n-grams from a list:\n",
    "\n",
    "sent = ['The', 'dog', 'gave', 'John', 'the', 'newspaper']\n",
    "n = 3\n",
    "[sent[i:i+n] for i in range(len(sent)-n+1)]\n",
    "\n",
    "# It is quite tricky to get the range of the loop variable right. Since this is a common operation in NLP, NLTK supports it with \n",
    "# functions bigrams(text) and trigrams(text), and a general purpose ngrams(text, n)."
   ]
  },
  {
   "cell_type": "code",
   "execution_count": 72,
   "metadata": {
    "collapsed": false
   },
   "outputs": [
    {
     "name": "stdout",
     "output_type": "stream",
     "text": [
      "[[set([]), set([]), set([]), set([]), set([]), set([]), set([])],\n",
      " [set([]), set([]), set([]), set([]), set([]), set([]), set([])],\n",
      " [set([]), set([]), set([]), set([]), set([]), set(['Alice']), set([])]]\n"
     ]
    }
   ],
   "source": [
    "# Here's an example of how we can use loop variables in building multidimensional structures. For example, to build an array with \n",
    "# m rows and n columns, where each cell is a set, we could use a nested list comprehension:\n",
    "m, n = 3, 7\n",
    "array = [[set() for i in range(n)] for j in range(m)]\n",
    "array[2][5].add('Alice')\n",
    "pprint.pprint(array)"
   ]
  },
  {
   "cell_type": "code",
   "execution_count": 74,
   "metadata": {
    "collapsed": false
   },
   "outputs": [
    {
     "name": "stdout",
     "output_type": "stream",
     "text": [
      "[[set([7]), set([7]), set([7]), set([7]), set([7]), set([7]), set([7])],\n",
      " [set([7]), set([7]), set([7]), set([7]), set([7]), set([7]), set([7])],\n",
      " [set([7]), set([7]), set([7]), set([7]), set([7]), set([7]), set([7])]]\n"
     ]
    }
   ],
   "source": [
    "# Observe that the loop variables i and j are not used anywhere in the resulting object, they are just needed for a syntactically \n",
    "# correct for statement. As another example of this usage, observe that the expression ['very' for i in range(3)] produces a \n",
    "# list containing three instances of 'very', with no integers in sight.\n",
    "\n",
    "# Note that it would be incorrect to do this work using multiplication, for reasons concerning object copying that were discussed \n",
    "# earlier in this section.\n",
    "\n",
    "array = [[set()] * n] * m\n",
    "array[2][5].add(7)\n",
    "pprint.pprint(array)\n",
    "\n",
    "# Iteration is an important programming device. It is tempting to adopt idioms from other languages. However, Python offers some \n",
    "# elegant and highly readable alternatives, as we have seen."
   ]
  },
  {
   "cell_type": "markdown",
   "metadata": {},
   "source": [
    "# 4.4   Functions: The Foundation of Structured Programming"
   ]
  },
  {
   "cell_type": "code",
   "execution_count": 75,
   "metadata": {
    "collapsed": false
   },
   "outputs": [],
   "source": [
    "# Functions provide an effective way to package and re-use program code, as already explained in 3. For example, suppose we find \n",
    "# that we often want to read text from an HTML file. This involves several steps: opening the file, reading it in, normalizing \n",
    "# whitespace, and stripping HTML markup. We can collect these steps into a function, and give it a name such as get_text(), as \n",
    "# shown in 4.2."
   ]
  },
  {
   "cell_type": "code",
   "execution_count": 76,
   "metadata": {
    "collapsed": false
   },
   "outputs": [],
   "source": [
    "import re\n",
    "def get_text(file):\n",
    "    \"\"\"Read text from a file, normalizing whitespace and stripping HTML markup.\"\"\"\n",
    "    text = open(file).read()\n",
    "    text = re.sub(r'<.*?>', ' ', text)\n",
    "    text = re.sub('\\s+', ' ', text)\n",
    "    return text\n",
    "\n",
    "# Now, any time we want to get cleaned-up text from an HTML file, we can just call get_text() with the name of the file as its \n",
    "# only argument. It will return a string, and we can assign this to a variable, e.g.: contents = get_text(\"test.html\"). Each time \n",
    "# we want to use this series of steps we only have to call the function.\n",
    "\n",
    "# Using functions has the benefit of saving space in our program. More importantly, our choice of name for the function helps \n",
    "# make the program readable. In the case of the above example, whenever our program needs to read cleaned-up text from a file \n",
    "# we don't have to clutter the program with four lines of code, we simply need to call get_text(). This naming helps to provide \n",
    "# some \"semantic interpretation\" — it helps a reader of our program to see what the program \"means\"."
   ]
  },
  {
   "cell_type": "code",
   "execution_count": null,
   "metadata": {
    "collapsed": false
   },
   "outputs": [],
   "source": [
    "# Notice that the above function definition contains a string. The first string inside a function definition is called a docstring. \n",
    "# Not only does it document the purpose of the function to someone reading the code, it is accessible to a programmer who has loaded \n",
    "# the code from a file:\n",
    "\n",
    "# |   >>> help(get_text)\n",
    "# |   Help on function get_text in module __main__:\n",
    "# |\n",
    "# |   get(text)\n",
    "# |       Read text from a file, normalizing whitespace and stripping HTML markup.\n",
    "\n",
    "# We have seen that functions help to make our work reusable and readable. They also help make it reliable. When we re-use code \n",
    "# that has already been developed and tested, we can be more confident that it handles a variety of cases correctly. We also remove \n",
    "# the risk that we forget some important step, or introduce a bug. The program that calls our function also has increased \n",
    "# reliability. The author of that program is dealing with a shorter program, and its components behave transparently.\n",
    "\n",
    "# To summarize, as its name suggests, a function captures functionality. It is a segment of code that can be given a meaningful \n",
    "# name and which performs a well-defined task. Functions allow us to abstract away from the details, to see a bigger picture, \n",
    "# and to program more effectively.\n",
    "\n",
    "# The rest of this section takes a closer look at functions, exploring the mechanics and discussing ways to make your programs \n",
    "# easier to read."
   ]
  },
  {
   "cell_type": "code",
   "execution_count": 77,
   "metadata": {
    "collapsed": false
   },
   "outputs": [
    {
     "data": {
      "text/plain": [
       "'Monty Python Monty Python Monty Python'"
      ]
     },
     "execution_count": 77,
     "metadata": {},
     "output_type": "execute_result"
    }
   ],
   "source": [
    "# Function Inputs and Outputs\n",
    "\n",
    "# We pass information to functions using a function's parameters, the parenthesized list of variables and constants following \n",
    "# the function's name in the function definition. Here's a complete example:\n",
    "\n",
    "# create a function repeat that repeats a string msg num number of times. Separate each instance by a space.\n",
    "def repeat(msg, num):\n",
    "    return ' '.join([msg] * num)\n",
    "\n",
    "# define monty string\n",
    "monty = 'Monty Python'\n",
    "\n",
    "# Repeat monty string 3 times\n",
    "repeat(monty, 3)"
   ]
  },
  {
   "cell_type": "code",
   "execution_count": 78,
   "metadata": {
    "collapsed": false
   },
   "outputs": [
    {
     "data": {
      "text/plain": [
       "'Monty Python'"
      ]
     },
     "execution_count": 78,
     "metadata": {},
     "output_type": "execute_result"
    }
   ],
   "source": [
    "# We first define the function to take two parameters, msg and num [1]. Then we call the function and pass it two arguments, \n",
    "# monty and 3 [2]; these arguments fill the \"placeholders\" provided by the parameters and provide values for the occurrences of \n",
    "# msg and num in the function body.\n",
    "\n",
    "# It is not necessary to have any parameters, as we see in the following example:\n",
    "\n",
    "def monty():\n",
    "    return \"Monty Python\"\n",
    "monty()"
   ]
  },
  {
   "cell_type": "code",
   "execution_count": 79,
   "metadata": {
    "collapsed": false
   },
   "outputs": [
    {
     "data": {
      "text/plain": [
       "'Monty Python Monty Python Monty Python'"
      ]
     },
     "execution_count": 79,
     "metadata": {},
     "output_type": "execute_result"
    }
   ],
   "source": [
    "# A function usually communicates its results back to the calling program via the return statement, as we have just seen. To the \n",
    "# calling program, it looks as if the function call had been replaced with the function's result, e.g.:\n",
    "\n",
    "repeat(monty(), 3)"
   ]
  },
  {
   "cell_type": "code",
   "execution_count": 80,
   "metadata": {
    "collapsed": false
   },
   "outputs": [
    {
     "data": {
      "text/plain": [
       "'Monty Python Monty Python Monty Python'"
      ]
     },
     "execution_count": 80,
     "metadata": {},
     "output_type": "execute_result"
    }
   ],
   "source": [
    "repeat('Monty Python', 3)"
   ]
  },
  {
   "cell_type": "code",
   "execution_count": 81,
   "metadata": {
    "collapsed": false
   },
   "outputs": [],
   "source": [
    "# A Python function is not required to have a return statement. Some functions do their work as a side effect, printing a result, \n",
    "# modifying a file, or updating the contents of a parameter to the function (such functions are called \"procedures\" in some other \n",
    "# programming languages).\n",
    "\n",
    "# Consider the following three sort functions. The third one is dangerous because a programmer could use it without realizing that \n",
    "# it had modified its input. In general, functions should modify the contents of a parameter (my_sort1()), or return a value \n",
    "# (my_sort2()), not both (my_sort3()).\n",
    "\n",
    "def my_sort1(mylist):      # good: modifies its argument, no return value\n",
    "    mylist.sort()"
   ]
  },
  {
   "cell_type": "code",
   "execution_count": 82,
   "metadata": {
    "collapsed": false
   },
   "outputs": [],
   "source": [
    "def my_sort2(mylist):      # good: doesn't touch its argument, returns value\n",
    "    return sorted(mylist)"
   ]
  },
  {
   "cell_type": "code",
   "execution_count": 83,
   "metadata": {
    "collapsed": false
   },
   "outputs": [],
   "source": [
    "def my_sort3(mylist):      # bad: modifies its argument and also returns it\n",
    "    mylist.sort()\n",
    "    return mylist"
   ]
  },
  {
   "cell_type": "code",
   "execution_count": 84,
   "metadata": {
    "collapsed": false
   },
   "outputs": [
    {
     "data": {
      "text/plain": [
       "''"
      ]
     },
     "execution_count": 84,
     "metadata": {},
     "output_type": "execute_result"
    }
   ],
   "source": [
    "# Parameter Passing\n",
    "\n",
    "# Back in 4.1 you saw that assignment works on values, but that the value of a structured object is a reference to that object. \n",
    "# The same is true for functions. Python interprets function parameters as values (this is known as call-by-value). In the following \n",
    "# code, set_up() has two parameters, both of which are modified inside the function. We begin by assigning an empty string to w and \n",
    "# an empty list to p. After calling the function, w is unchanged, while p is changed:\n",
    "\n",
    "def set_up(word, properties):\n",
    "    word = 'lolcat'\n",
    "    properties.append('noun')\n",
    "    properties = 5\n",
    "\n",
    "w = ''\n",
    "p = []\n",
    "set_up(w, p)\n",
    "w"
   ]
  },
  {
   "cell_type": "code",
   "execution_count": 85,
   "metadata": {
    "collapsed": false
   },
   "outputs": [
    {
     "data": {
      "text/plain": [
       "['noun']"
      ]
     },
     "execution_count": 85,
     "metadata": {},
     "output_type": "execute_result"
    }
   ],
   "source": [
    "p"
   ]
  },
  {
   "cell_type": "code",
   "execution_count": 86,
   "metadata": {
    "collapsed": false
   },
   "outputs": [
    {
     "data": {
      "text/plain": [
       "''"
      ]
     },
     "execution_count": 86,
     "metadata": {},
     "output_type": "execute_result"
    }
   ],
   "source": [
    "# Notice that w was not changed by the function. When we called set_up(w, p), the value of w (an empty string) was assigned to a \n",
    "# new variable word. Inside the function, the value of word was modified. However, that change did not propagate to w. This parameter \n",
    "# passing is identical to the following sequence of assignments:\n",
    "  \n",
    "w = ''\n",
    "word = w\n",
    "word = 'lolcat'\n",
    "w"
   ]
  },
  {
   "cell_type": "code",
   "execution_count": 87,
   "metadata": {
    "collapsed": false
   },
   "outputs": [
    {
     "data": {
      "text/plain": [
       "['noun']"
      ]
     },
     "execution_count": 87,
     "metadata": {},
     "output_type": "execute_result"
    }
   ],
   "source": [
    "# Let's look at what happened with the list p. When we called set_up(w, p), the value of p (a reference to an empty list) was \n",
    "# assigned to a new local variable properties, so both variables now reference the same memory location. The function modifies \n",
    "# properties, and this change is also reflected in the value of p as we saw. The function also assigned a new value to properties \n",
    "# (the number 5); this did not modify the contents at that memory location, but created a new local variable. This behavior is just \n",
    "# as if we had done the following sequence of assignments:\n",
    "\n",
    "p = []\n",
    "properties = p\n",
    "properties.append('noun')\n",
    "properties = 5\n",
    "p\n",
    "\n",
    "# Thus, to understand Python's call-by-value parameter passing, it is enough to understand how assignment works. Remember that you \n",
    "# can use the id() function and is operator to check your understanding of object identity after each statement."
   ]
  },
  {
   "cell_type": "raw",
   "metadata": {},
   "source": [
    "\n",
    "Variable Scope\n",
    "\n",
    "Function definitions create a new, local scope for variables. When you assign to a new variable inside the body of a function, the name is only defined within that function. The name is not visible outside the function, or in other functions. This behavior means you can choose variable names without being concerned about collisions with names used in your other function definitions.\n",
    "\n",
    "When you refer to an existing name from within the body of a function, the Python interpreter first tries to resolve the name with respect to the names that are local to the function. If nothing is found, the interpreter checks if it is a global name within the module. Finally, if that does not succeed, the interpreter checks if the name is a Python built-in. This is the so-called LGB rule of name resolution: local, then global, then built-in.\n",
    "\n",
    "Caution!\n",
    "\n",
    "A function can enable access to a global variable using the global declaration. However, this practice should be avoided as much as possible. Defining global variables inside a function introduces dependencies on context and limits the portability (or reusability) of the function. In general you should use parameters for function inputs and return values for function outputs."
   ]
  },
  {
   "cell_type": "code",
   "execution_count": null,
   "metadata": {
    "collapsed": false
   },
   "outputs": [],
   "source": [
    "# Checking Parameter Types\n",
    "\n",
    "# Python does not allow us to declare the type of a variable when we write a program, and this permits us to define functions \n",
    "# that are flexible about the type of their arguments. For example, a tagger might expect a sequence of words, but it wouldn't \n",
    "# care whether this sequence is expressed as a list or a tuple (or an iterator, another sequence type that is outside the scope \n",
    "# of the current discussion).\n",
    "\n",
    "# However, often we want to write programs for later use by others, and want to program in a defensive style, providing useful \n",
    "# warnings when functions have not been invoked correctly. The author of the following tag() function assumed that its argument \n",
    "# would always be a string."
   ]
  },
  {
   "cell_type": "code",
   "execution_count": 88,
   "metadata": {
    "collapsed": false
   },
   "outputs": [
    {
     "data": {
      "text/plain": [
       "'det'"
      ]
     },
     "execution_count": 88,
     "metadata": {},
     "output_type": "execute_result"
    }
   ],
   "source": [
    "def tag(word):\n",
    "    if word in ['a', 'the', 'all']:\n",
    "        return 'det'\n",
    "    else:\n",
    "        return 'noun'\n",
    "\n",
    "tag('the')"
   ]
  },
  {
   "cell_type": "code",
   "execution_count": 89,
   "metadata": {
    "collapsed": false
   },
   "outputs": [
    {
     "data": {
      "text/plain": [
       "'noun'"
      ]
     },
     "execution_count": 89,
     "metadata": {},
     "output_type": "execute_result"
    }
   ],
   "source": [
    "tag('knight')"
   ]
  },
  {
   "cell_type": "code",
   "execution_count": 90,
   "metadata": {
    "collapsed": false
   },
   "outputs": [
    {
     "data": {
      "text/plain": [
       "'noun'"
      ]
     },
     "execution_count": 90,
     "metadata": {},
     "output_type": "execute_result"
    }
   ],
   "source": [
    "tag([\"'Tis\", 'but', 'a', 'scratch'])"
   ]
  },
  {
   "cell_type": "raw",
   "metadata": {},
   "source": [
    "The function returns sensible values for the arguments 'the' and 'knight', but look what happens when it is passed a list [1] — it fails to complain, even though the result which it returns is clearly incorrect. The author of this function could take some extra steps to ensure that the word parameter of the tag() function is a string. A naive approach would be to check the type of the argument using if not type(word) is str, and if word is not a string, to simply return Python's special empty value, None. This is a slight improvement, because the function is checking the type of the argument, and trying to return a \"special\", diagnostic value for the wrong input. However, it is also dangerous because the calling program may not detect that None is intended as a \"special\" value, and this diagnostic return value may then be propagated to other parts of the program with unpredictable consequences. This approach also fails if the word is a Unicode string, which has type unicode, not str. "
   ]
  },
  {
   "cell_type": "code",
   "execution_count": 91,
   "metadata": {
    "collapsed": false
   },
   "outputs": [],
   "source": [
    "# Here's a better solution, using an assert statement together with Python's basestring type that generalizes over both unicode \n",
    "# and str.\n",
    "\n",
    "def tag(word):\n",
    "    assert isinstance(word, basestring), \"argument to tag() must be a string\"\n",
    "    if word in ['a', 'the', 'all']:\n",
    "        return 'det'\n",
    "    else:\n",
    "        return 'noun'"
   ]
  },
  {
   "cell_type": "code",
   "execution_count": 92,
   "metadata": {
    "collapsed": false
   },
   "outputs": [
    {
     "data": {
      "text/plain": [
       "'det'"
      ]
     },
     "execution_count": 92,
     "metadata": {},
     "output_type": "execute_result"
    }
   ],
   "source": [
    "tag('the')"
   ]
  },
  {
   "cell_type": "code",
   "execution_count": 93,
   "metadata": {
    "collapsed": false
   },
   "outputs": [
    {
     "data": {
      "text/plain": [
       "'noun'"
      ]
     },
     "execution_count": 93,
     "metadata": {},
     "output_type": "execute_result"
    }
   ],
   "source": [
    "tag('knight')"
   ]
  },
  {
   "cell_type": "code",
   "execution_count": 94,
   "metadata": {
    "collapsed": false
   },
   "outputs": [
    {
     "ename": "AssertionError",
     "evalue": "argument to tag() must be a string",
     "output_type": "error",
     "traceback": [
      "\u001b[0;31m---------------------------------------------------------------------------\u001b[0m",
      "\u001b[0;31mAssertionError\u001b[0m                            Traceback (most recent call last)",
      "\u001b[0;32m<ipython-input-94-00cb753c6cfb>\u001b[0m in \u001b[0;36m<module>\u001b[0;34m()\u001b[0m\n\u001b[0;32m----> 1\u001b[0;31m \u001b[0mtag\u001b[0m\u001b[1;33m(\u001b[0m\u001b[1;33m[\u001b[0m\u001b[1;34m\"'Tis\"\u001b[0m\u001b[1;33m,\u001b[0m \u001b[1;34m'but'\u001b[0m\u001b[1;33m,\u001b[0m \u001b[1;34m'a'\u001b[0m\u001b[1;33m,\u001b[0m \u001b[1;34m'scratch'\u001b[0m\u001b[1;33m]\u001b[0m\u001b[1;33m)\u001b[0m\u001b[1;33m\u001b[0m\u001b[0m\n\u001b[0m",
      "\u001b[0;32m<ipython-input-91-efc2d057730f>\u001b[0m in \u001b[0;36mtag\u001b[0;34m(word)\u001b[0m\n\u001b[1;32m      3\u001b[0m \u001b[1;33m\u001b[0m\u001b[0m\n\u001b[1;32m      4\u001b[0m \u001b[1;32mdef\u001b[0m \u001b[0mtag\u001b[0m\u001b[1;33m(\u001b[0m\u001b[0mword\u001b[0m\u001b[1;33m)\u001b[0m\u001b[1;33m:\u001b[0m\u001b[1;33m\u001b[0m\u001b[0m\n\u001b[0;32m----> 5\u001b[0;31m     \u001b[1;32massert\u001b[0m \u001b[0misinstance\u001b[0m\u001b[1;33m(\u001b[0m\u001b[0mword\u001b[0m\u001b[1;33m,\u001b[0m \u001b[0mbasestring\u001b[0m\u001b[1;33m)\u001b[0m\u001b[1;33m,\u001b[0m \u001b[1;34m\"argument to tag() must be a string\"\u001b[0m\u001b[1;33m\u001b[0m\u001b[0m\n\u001b[0m\u001b[1;32m      6\u001b[0m     \u001b[1;32mif\u001b[0m \u001b[0mword\u001b[0m \u001b[1;32min\u001b[0m \u001b[1;33m[\u001b[0m\u001b[1;34m'a'\u001b[0m\u001b[1;33m,\u001b[0m \u001b[1;34m'the'\u001b[0m\u001b[1;33m,\u001b[0m \u001b[1;34m'all'\u001b[0m\u001b[1;33m]\u001b[0m\u001b[1;33m:\u001b[0m\u001b[1;33m\u001b[0m\u001b[0m\n\u001b[1;32m      7\u001b[0m         \u001b[1;32mreturn\u001b[0m \u001b[1;34m'det'\u001b[0m\u001b[1;33m\u001b[0m\u001b[0m\n",
      "\u001b[0;31mAssertionError\u001b[0m: argument to tag() must be a string"
     ]
    }
   ],
   "source": [
    "tag([\"'Tis\", 'but', 'a', 'scratch'])"
   ]
  },
  {
   "cell_type": "code",
   "execution_count": 95,
   "metadata": {
    "collapsed": false
   },
   "outputs": [],
   "source": [
    "# If the assert statement fails, it will produce an error that cannot be ignored, since it halts program execution. Additionally, \n",
    "# the error message is easy to interpret. Adding assertions to a program helps you find logical errors, and is a kind of defensive \n",
    "# programming. A more fundamental approach is to document the parameters to each function using docstrings as described later in \n",
    "# this section.\n",
    "\n",
    "# Functional Decomposition\n",
    "\n",
    "# Well-structured programs usually make extensive use of functions. When a block of program code grows longer than 10-20 lines, \n",
    "# it is a great help to readability if the code is broken up into one or more functions, each one having a clear purpose. This is \n",
    "# analogous to the way a good essay is divided into paragraphs, each expressing one main idea.\n",
    "\n",
    "# Functions provide an important kind of abstraction. They allow us to group multiple actions into a single, complex action, \n",
    "# and associate a name with it. (Compare this with the way we combine the actions of go and bring back into a single more \n",
    "# complex action fetch.) When we use functions, the main program can be written at a higher level of abstraction, making its \n",
    "# structure transparent, e.g.\n",
    "\n",
    "# data = load_corpus()\n",
    "# results = analyze(data)\n",
    "# present(results)\n",
    "\n",
    "# Appropriate use of functions makes programs more readable and maintainable. Additionally, it becomes possible to reimplement a \n",
    "# function — replacing the function's body with more efficient code — without having to be concerned with the rest of the program."
   ]
  },
  {
   "cell_type": "code",
   "execution_count": 96,
   "metadata": {
    "collapsed": false
   },
   "outputs": [
    {
     "ename": "ImportError",
     "evalue": "cannot import name request",
     "output_type": "error",
     "traceback": [
      "\u001b[0;31m---------------------------------------------------------------------------\u001b[0m",
      "\u001b[0;31mImportError\u001b[0m                               Traceback (most recent call last)",
      "\u001b[0;32m<ipython-input-96-fc8f83dddb13>\u001b[0m in \u001b[0;36m<module>\u001b[0;34m()\u001b[0m\n\u001b[1;32m      2\u001b[0m \u001b[1;31m# and it also prints a list of the n most frequent words.\u001b[0m\u001b[1;33m\u001b[0m\u001b[1;33m\u001b[0m\u001b[0m\n\u001b[1;32m      3\u001b[0m \u001b[1;33m\u001b[0m\u001b[0m\n\u001b[0;32m----> 4\u001b[0;31m \u001b[1;32mfrom\u001b[0m \u001b[0murllib\u001b[0m \u001b[1;32mimport\u001b[0m \u001b[0mrequest\u001b[0m \u001b[1;31m# I cannot import request...\u001b[0m\u001b[1;33m\u001b[0m\u001b[0m\n\u001b[0m\u001b[1;32m      5\u001b[0m \u001b[1;32mfrom\u001b[0m \u001b[0mbs4\u001b[0m \u001b[1;32mimport\u001b[0m \u001b[0mBeautifulSoup\u001b[0m\u001b[1;33m\u001b[0m\u001b[0m\n\u001b[1;32m      6\u001b[0m \u001b[1;33m\u001b[0m\u001b[0m\n",
      "\u001b[0;31mImportError\u001b[0m: cannot import name request"
     ]
    }
   ],
   "source": [
    "# Consider the freq_words function in 4.3. It updates the contents of a frequency distribution that is passed in as a parameter, \n",
    "# and it also prints a list of the n most frequent words.\n",
    "\n",
    "from urllib import request # I cannot import request...\n",
    "from bs4 import BeautifulSoup\n",
    "\n",
    "def freq_words(url, freqdist, n):\n",
    "    html = request.urlopen(url).read().decode('utf8')\n",
    "    raw = BeautifulSoup(html).get_text()\n",
    "    for word in word_tokenize(raw):\n",
    "        freqdist[word.lower()] += 1\n",
    "    result = []\n",
    "    for word, count in freqdist.most_common(n):\n",
    "        result = result + [word]\n",
    "    print(result)\n",
    "    \n",
    "constitution = \"http://www.archives.gov/exhibits/charters/constitution_transcript.html\"\n",
    "fd = nltk.FreqDist()\n",
    "freq_words(constitution, fd, 30)"
   ]
  },
  {
   "cell_type": "raw",
   "metadata": {},
   "source": [
    "Documenting Functions\n",
    "\n",
    "If we have done a good job at decomposing our program into functions, then it should be easy to describe the purpose of each function in plain language, and provide this in the docstring at the top of the function definition. This statement should not explain how the functionality is implemented; in fact it should be possible to re-implement the function using a different method without changing this statement.\n",
    "\n",
    "For the simplest functions, a one-line docstring is usually adequate (see 4.2). You should provide a triple-quoted string containing a complete sentence on a single line. For non-trivial functions, you should still provide a one sentence summary on the first line, since many docstring processing tools index this string. This should be followed by a blank line, then a more detailed description of the functionality (see http://www.python.org/dev/peps/pep-0257/ for more information in docstring conventions).\n",
    "\n",
    "Docstrings can include a doctest block, illustrating the use of the function and the expected output. These can be tested automatically using Python's docutils module. Docstrings should document the type of each parameter to the function, and the return type. At a minimum, that can be done in plain text. However, note that NLTK uses the Sphinx markup language to document parameters. This format can be automatically converted into richly structured API documentation (see http://nltk.org/), and includes special handling of certain \"fields\" such as param which allow the inputs and outputs of functions to be clearly documented. 4.5 illustrates a complete docstring."
   ]
  },
  {
   "cell_type": "markdown",
   "metadata": {},
   "source": [
    "# 4.5   Doing More with Functions"
   ]
  },
  {
   "cell_type": "code",
   "execution_count": 97,
   "metadata": {
    "collapsed": false
   },
   "outputs": [
    {
     "data": {
      "text/plain": [
       "[4, 4, 2, 3, 5, 1, 3, 3, 6, 4, 4, 4, 2, 10, 1]"
      ]
     },
     "execution_count": 97,
     "metadata": {},
     "output_type": "execute_result"
    }
   ],
   "source": [
    "# This section discusses more advanced features, which you may prefer to skip on the first time through this chapter.\n",
    "\n",
    "# Functions as Arguments\n",
    "\n",
    "# So far the arguments we have passed into functions have been simple objects like strings, or structured objects like lists. \n",
    "# Python also lets us pass a function as an argument to another function. Now we can abstract out the operation, and apply a \n",
    "# different operation on the same data. As the following examples show, we can pass the built-in function len() or a user-defined \n",
    "# function last_letter() as arguments to another function:\n",
    "\n",
    "sent = ['Take', 'care', 'of', 'the', 'sense', ',', 'and', 'the',\n",
    "        'sounds', 'will', 'take', 'care', 'of', 'themselves', '.']\n",
    "\n",
    "def extract_property(prop):\n",
    "    return [prop(word) for word in sent]\n",
    "\n",
    "extract_property(len)\n",
    "\n",
    "# Wow... This is powerful. Instead of passing a simple data object, you can pass in a function...\n",
    "# we pass the function len. Then we return a list of this function applied to elements of a list"
   ]
  },
  {
   "cell_type": "code",
   "execution_count": 99,
   "metadata": {
    "collapsed": false
   },
   "outputs": [
    {
     "data": {
      "text/plain": [
       "['e', 'e', 'f', 'e', 'e', ',', 'd', 'e', 's', 'l', 'e', 'e', 'f', 's', '.']"
      ]
     },
     "execution_count": 99,
     "metadata": {},
     "output_type": "execute_result"
    }
   ],
   "source": [
    "def last_letter(word):\n",
    "    return word[-1]\n",
    "extract_property(last_letter)"
   ]
  },
  {
   "cell_type": "code",
   "execution_count": 100,
   "metadata": {
    "collapsed": false
   },
   "outputs": [
    {
     "data": {
      "text/plain": [
       "['e', 'e', 'f', 'e', 'e', ',', 'd', 'e', 's', 'l', 'e', 'e', 'f', 's', '.']"
      ]
     },
     "execution_count": 100,
     "metadata": {},
     "output_type": "execute_result"
    }
   ],
   "source": [
    "# The objects len and last_letter can be passed around like lists and dictionaries. Notice that parentheses are only used after \n",
    "# a function name if we are invoking the function; when we are simply treating the function as an object these are omitted.\n",
    "\n",
    "# Python provides us with one more way to define functions as arguments to other functions, so-called lambda expressions. \n",
    "# Supposing there was no need to use the above last_letter() function in multiple places, and thus no need to give it a name. \n",
    "# We can equivalently write the following:\n",
    "\n",
    "extract_property(lambda w: w[-1])"
   ]
  },
  {
   "cell_type": "code",
   "execution_count": 101,
   "metadata": {
    "collapsed": false
   },
   "outputs": [
    {
     "data": {
      "text/plain": [
       "[',',\n",
       " '.',\n",
       " 'Take',\n",
       " 'and',\n",
       " 'care',\n",
       " 'care',\n",
       " 'of',\n",
       " 'of',\n",
       " 'sense',\n",
       " 'sounds',\n",
       " 'take',\n",
       " 'the',\n",
       " 'the',\n",
       " 'themselves',\n",
       " 'will']"
      ]
     },
     "execution_count": 101,
     "metadata": {},
     "output_type": "execute_result"
    }
   ],
   "source": [
    "# Our next example illustrates passing a function to the sorted() function. When we call the latter with a single argument \n",
    "# (the list to be sorted), it uses the built-in comparison function cmp(). However, we can supply our own sort function, e.g. \n",
    "# to sort by decreasing length.\n",
    "\n",
    "sorted(sent)"
   ]
  },
  {
   "cell_type": "code",
   "execution_count": 102,
   "metadata": {
    "collapsed": false
   },
   "outputs": [
    {
     "data": {
      "text/plain": [
       "[',',\n",
       " '.',\n",
       " 'Take',\n",
       " 'and',\n",
       " 'care',\n",
       " 'care',\n",
       " 'of',\n",
       " 'of',\n",
       " 'sense',\n",
       " 'sounds',\n",
       " 'take',\n",
       " 'the',\n",
       " 'the',\n",
       " 'themselves',\n",
       " 'will']"
      ]
     },
     "execution_count": 102,
     "metadata": {},
     "output_type": "execute_result"
    }
   ],
   "source": [
    "sorted(sent, cmp)"
   ]
  },
  {
   "cell_type": "code",
   "execution_count": 103,
   "metadata": {
    "collapsed": false
   },
   "outputs": [
    {
     "data": {
      "text/plain": [
       "['themselves',\n",
       " 'sounds',\n",
       " 'sense',\n",
       " 'Take',\n",
       " 'care',\n",
       " 'will',\n",
       " 'take',\n",
       " 'care',\n",
       " 'the',\n",
       " 'and',\n",
       " 'the',\n",
       " 'of',\n",
       " 'of',\n",
       " ',',\n",
       " '.']"
      ]
     },
     "execution_count": 103,
     "metadata": {},
     "output_type": "execute_result"
    }
   ],
   "source": [
    "sorted(sent, lambda x, y: cmp(len(y), len(x)))"
   ]
  },
  {
   "cell_type": "code",
   "execution_count": null,
   "metadata": {
    "collapsed": false
   },
   "outputs": [],
   "source": [
    "# Accumulative Functions\n",
    "\n",
    "# These functions start by initializing some storage, and iterate over input to build it up, before returning some final object \n",
    "# (a large structure or aggregated result). A standard way to do this is to initialize an empty list, accumulate the material, \n",
    "# then return the list, as shown in function search1() in 4.6.\n",
    "\n",
    "# I skipped the rest of this section..."
   ]
  },
  {
   "cell_type": "code",
   "execution_count": null,
   "metadata": {
    "collapsed": false
   },
   "outputs": [],
   "source": [
    "# Skipped Higher-Order Functions - discusses functional programming\n",
    "# Skipped Named Arguments\n",
    "\n",
    "# I skipped the rest of the chapter. There were interesting things but more general with respect to programming and Python rather\n",
    "# than NLTK. Plus throughout this chapter, it mentioned that the material was largely optional and could be skipped on a first pass."
   ]
  }
 ],
 "metadata": {
  "anaconda-cloud": {},
  "kernelspec": {
   "display_name": "Python [default]",
   "language": "python",
   "name": "python2"
  },
  "language_info": {
   "codemirror_mode": {
    "name": "ipython",
    "version": 2
   },
   "file_extension": ".py",
   "mimetype": "text/x-python",
   "name": "python",
   "nbconvert_exporter": "python",
   "pygments_lexer": "ipython2",
   "version": "2.7.12"
  }
 },
 "nbformat": 4,
 "nbformat_minor": 0
}
